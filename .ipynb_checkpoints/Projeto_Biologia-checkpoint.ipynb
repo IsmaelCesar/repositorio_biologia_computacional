{
 "cells": [
  {
   "cell_type": "code",
   "execution_count": 10,
   "metadata": {},
   "outputs": [],
   "source": [
    "import pandas as pd\n",
    "import numpy as np\n",
    "from keras.models import Sequential\n",
    "from keras.layers import Dense, Dropout, ActivityRegularization, BatchNormalization, Conv2D, AveragePooling2D, Flatten\n",
    "from keras.layers import Input,Add,MaxPooling2D\n",
    "from keras.models  import Model\n",
    "from keras import regularizers\n",
    "from keras.optimizers import Adamax\n",
    "import keras\n",
    "import sklearn\n",
    "from sklearn.model_selection import train_test_split\n",
    "from sklearn.metrics import classification_report\n",
    "from sklearn.metrics import confusion_matrix\n",
    "import matplotlib.pyplot as plt\n",
    "import seaborn as sns\n",
    "\n",
    "janela = 9 #valor impar\n",
    "size = int(janela/2) #tamanho a ser incrementado nas laterais\n"
   ]
  },
  {
   "cell_type": "code",
   "execution_count": 4,
   "metadata": {},
   "outputs": [],
   "source": [
    "def buildScoringMatrix():\n",
    "    \"\"\"\n",
    "    Building protein scoring matrix and creating a dictionary with the aminoacids and each of their corresponding\n",
    "    rows in the matrix\n",
    "    :return:\n",
    "    \"\"\"\n",
    "    positions = {'A':0,'C':1,'D':2,'E':3,'F':4,'G':5,'H':6,'I':7,'K':8,'L':9,'M':10,'N':11,\n",
    "                 'P':12,'Q':13,'R':14,'S':15,'T':16,'V':17,'W':18,'Y':19}\n",
    "    res = ['A','C','D','E','F','G','H','I','K','L','M','N',\n",
    "                 'P','Q','R','S','T','V','W','Y']\n",
    "    M=[[4,   0, -1, -2,  0, -1, -2, -3, -1, -1,  1,  0, -2, -2, -1, -2, -1, -2, -2, -1],\n",
    "       [-1, -2, -3 ,-3 ,-3 ,-3, -4, -4,  8, -3, -1, -1, -3, -2, -1, -2, -1, -2, -2, -1],\n",
    "       [3,   2, -2 ,-2 ,-1 ,-1, -3, -3, -1, -1,  1,  3, -2, -1, -1, -2, -1, -2, -2, -1],\n",
    "       [2,  -2,  1,  0,  2,  0,  3, -2, -2, -1,  0, -1,  0, -2, -2, -2, -2, -2, -3, -2],\n",
    "       [0,  -1, -1, -2, -1, -1, -2, -3, -1, -1,  3,  4, -2,  0, -1, -2, -1, -1, -1, -1],\n",
    "       [0,  -3,  3,  1,  4,  1, -1, -3, -3, -1, -2,  0, -1, -3, -2, -3, -3, -3, -3, -3],\n",
    "       [0,  -1, -1, -2, -1, -1, -2, -3, -1, -1, -3,  4, -2,  0, -1, -2, -1, -1, -1, -1],\n",
    "       [-1, -2, -3, -3, -3, -3, -4, -4,  8, -3, -1, -1, -3, -2, -2, -2, -1, -2, -2, -1],\n",
    "       [3,   0, -2, -2, -1, -1, -2, -3, -1, -1,  3,  1, -2, -1, -1, -1, -1, -1, -1, -1],\n",
    "       [1,  -1 ,-2 ,-2 ,-1 ,-1, -3, -3, -1, -1,  4,  3, -2,  0,  0, -1, -1, -1, -1, -1],\n",
    "       [0,   6, -4, -4, -3 ,-3, -3, -3, -2, -3,  0, -2, -3, -1, -2, -2, -2, -3, -2, -2],\n",
    "       [0,  -3 , 1,  4,  1 , 2,  0, -2, -3, -1, -2, -1, -1, -3, -2, -3, -2, -2, -4, -3],\n",
    "       [2,   0 ,-2, -2, -1, -2, -3, -3, -1, -1,  4,  1, -2,  0,  0, -1,  0, -1, -1,  0],\n",
    "       [-2, -1 ,-3 ,-4 ,-3, -3, -4, -4, -2, -4,  0, -1, -3,  3,  0, -1, -1, -2,  6,  1],\n",
    "       [0 ,  6, -4, -4, -3, -3, -3, -3, -2, -3,  0, -2, -3, -1, -2, -2, -2, -3, -2, -2],\n",
    "       [1 , -1 ,-2 ,-2, -1, -1, -3, -2, -1, -2,  1,  3, -2,  0,  4, -1,  0,  0, -1,  0],\n",
    "       [0,  -2,  1, -1,  2,  0, -2, -3, -3, -1,  2,  3, -1, -1, -1, -2, -1, -2, -2, -1],\n",
    "       [0,  -3,  3,  1,  4,  1, -1, -3, -3, -1, -2,  0, -1, -3, -2, -3, -3, -3, -3, -3],\n",
    "       [0 , -1 ,-2, -2, -1, -1, -3, -3, -1, -2,  2,  3, -2,  0,  0, -1,  3,  1, -1,  0],\n",
    "       [0,  -3,  3,  1,  4,  1, -1, -3, -3, -1, -2,  0, -1, -3, -2, -3, -3, -3, -3, -3],\n",
    "       [3,   0, -2, -2, -1, -1, -3, -3, -1, -1,  3,  1, -2,  0,  0, -1, -1, -1, -1, -1]]\n",
    "    M = np.array(M).transpose()\n",
    "    M = M.reshape(-1,21,1)\n",
    "    #M = pd.DataFrame(data=M,index=res)\n",
    "    return M"
   ]
  },
  {
   "cell_type": "code",
   "execution_count": 5,
   "metadata": {},
   "outputs": [],
   "source": [
    "def position_values_to_scores(data):\n",
    "    \"\"\"\n",
    "    :param data: The data must already be treated by the load_data and the load(X) procedures\n",
    "    the transformation is made only using the features\n",
    "    :return: data with each position value replaced by its correspondent row in the scoring matrix\n",
    "    \"\"\"\n",
    "    assert type(data) == np.ndarray\n",
    "    assert data.shape[1] == janela\n",
    "    zeros = np.zeros((21,1),dtype=np.int32).tolist()\n",
    "    M = buildScoringMatrix()\n",
    "    newData = []\n",
    "    for i,res in enumerate(data):\n",
    "        newData.append([])\n",
    "        for j,amin in enumerate(res):\n",
    "            if amin != 0:\n",
    "                newData[i].append(M[amin-1,:].tolist())\n",
    "            else:\n",
    "                newData[i].append(zeros)\n",
    "\n",
    "    return np.array(newData)"
   ]
  },
  {
   "cell_type": "code",
   "execution_count": 6,
   "metadata": {},
   "outputs": [],
   "source": [
    "def load(X):\n",
    "    data = X['prot']\n",
    "    classes = X['class']\n",
    "    positions = {'A':0,'C':1,'D':2,'E':3,'F':4,'G':5,'H':6,'I':7,'K':8,'L':9,'M':10,'N':11,\n",
    "                 'P':12,'Q':13,'R':14,'S':15,'T':16,'V':17,'W':18,'Y':19}\n",
    "    classes_converter = {'-': 0, 'E':1, 'H':2}\n",
    "    res = []\n",
    "    for i in range(len(data)):\n",
    "        for j in range(len(data[i])):\n",
    "            res.append(int(positions[data[i][j]])+1)\n",
    "    for i in range(size):\n",
    "        res.insert(0, 0)\n",
    "        res.append(0)\n",
    "    data =[]\n",
    "    for i in range(len(X['prot'])):\n",
    "        data.append(res[i:janela+i])\n",
    "        data[i].append(classes_converter[classes[i]])\n",
    "    columns = [[]]*(janela+1)\n",
    "    for i in range(janela):\n",
    "        columns[i] = \"Element\" + str(i)\n",
    "    columns[janela] = 'Class'\n",
    "    data = pd.DataFrame(data, columns = columns)\n",
    "    return data\n",
    "\n",
    "def load_data():\n",
    "    proteins = pd.read_csv('cb513.csv',sep='\\s*,\\s*')\n",
    "    res = load(proteins.iloc[0])\n",
    "    for i in range(1,len(proteins)):\n",
    "        aux = load(proteins.iloc[i])\n",
    "        res = res.append(aux,ignore_index = True)\n",
    "    return res"
   ]
  },
  {
   "cell_type": "markdown",
   "metadata": {},
   "source": [
    "### Models Implementation"
   ]
  },
  {
   "cell_type": "code",
   "execution_count": 12,
   "metadata": {},
   "outputs": [],
   "source": [
    "def oldConv1DModel(input_shape,n_classes):\n",
    "    model = Sequential()\n",
    "    reg = 0.01\n",
    "    model.add(Conv1D(128,(1),input_shape=(janela,1),kernel_regularizer=regularizers.l2(reg),activation='sigmoid'))\n",
    "    model.add(Conv1D(256,(1),kernel_regularizer=regularizers.l2(reg),activation='sigmoid'))\n",
    "    model.add(Conv1D(512,(5),kernel_regularizer=regularizers.l2(reg),activation='sigmoid'))\n",
    "    model.add(Conv1D(1024,(5),kernel_regularizer=regularizers.l2(reg),activation='sigmoid'))\n",
    "    model.add(AveragePooling1D(1))\n",
    "    model.add(BatchNormalization())\n",
    "    model.add(Flatten())\n",
    "    model.add(Dense(1024,activation='relu',name=\"first_fc_layer\",kernel_regularizer=regularizers.l2(reg)))\n",
    "    model.add(Dense(2048,activation='relu',name=\"second_fc_layer\",kernel_regularizer=regularizers.l2(reg)))\n",
    "    model.add(Dense(1024,activation='relu',name=\"third_fc_layer\",kernel_regularizer=regularizers.l2(reg)))\n",
    "\n",
    "    model.add(Dense(3, activation='relu',kernel_regularizer=regularizers.l2(reg)))\n",
    "\n",
    "    model.summary()\n",
    "    return model\n"
   ]
  },
  {
   "cell_type": "code",
   "execution_count": 7,
   "metadata": {},
   "outputs": [],
   "source": [
    "def newConv2DModel(input_shape,n_classes):\n",
    "    model = Sequential()\n",
    "    reg = 0.01\n",
    "    model.add(Conv2D(512,(3),input_shape=input_shape,kernel_regularizer=regularizers.l2(reg),activation='relu'))\n",
    "    model.add(Conv2D(1024,(3),kernel_regularizer=regularizers.l2(reg),activation='relu'))\n",
    "    model.add(BatchNormalization())\n",
    "    model.add(Flatten())\n",
    "    model.add(Dense(1024,activation='relu',name=\"first_fc_layer\",kernel_regularizer=regularizers.l2(reg)))\n",
    "    model.add(Dense(2048,activation='tanh',name=\"second_fc_layer\",kernel_regularizer=regularizers.l2(reg)))\n",
    "    model.add(Dense(1024,activation='tanh',name=\"third_fc_layer\",kernel_regularizer=regularizers.l2(reg)))\n",
    "    model.add(Dropout(.25))\n",
    "    model.add(Dense(n_classes, activation='softmax',kernel_regularizer=regularizers.l2(reg)))\n",
    "    model.summary()\n",
    "    return model"
   ]
  },
  {
   "cell_type": "code",
   "execution_count": 16,
   "metadata": {},
   "outputs": [],
   "source": [
    "def conv1DResnet(input_shape,n_classes):\n",
    "    reg = 0.01\n",
    "\n",
    "    #First Skip Layer\n",
    "    X_input = Input(input_shape)\n",
    "    X_skip = Conv1D(258,(1),input_shape=(janela,1),padding='same',\n",
    "             kernel_regularizer=regularizers.l2(reg),activation='relu')(X_input)\n",
    "    X      = Conv1D(258,(1),kernel_regularizer=regularizers.l2(reg)\n",
    "                                                      ,activation='relu')(X_skip)\n",
    "    X      = Add(name=\"add_skip_1\")([X_skip,X])\n",
    "    #X      = MaxPooling1D(2,name=\"pool_layer1\")(X)\n",
    "    X      = BatchNormalization()(X)\n",
    "    X      = MaxPooling1D(2)(X)\n",
    "\n",
    "    #Second Skip Layer\n",
    "    X_skip = Conv1D(512,(1),padding='same',\n",
    "             kernel_regularizer=regularizers.l2(reg),activation='relu')(X)\n",
    "    X      = Conv1D(512,(1),kernel_regularizer=regularizers.l2(reg),\n",
    "                                                  activation='relu')(X_skip)\n",
    "    X      = Add()([X_skip,X])\n",
    "    #X      = MaxPooling1D(2,name=\"pool_layer2\")(X)\n",
    "    X      = BatchNormalization()(X)\n",
    "    X      = MaxPooling1D(2)(X)\n",
    "\n",
    "    #Third Skip Layer\n",
    "    X_skip = Conv1D(1024,(1),padding='same',\n",
    "             kernel_regularizer=regularizers.l2(reg),activation='relu')(X)\n",
    "    X      = Conv1D(1024,(1),kernel_regularizer=regularizers.l2(reg)\n",
    "                                                    ,activation='relu')(X_skip)\n",
    "    X      = Add()([X_skip,X])\n",
    "    #X      = MaxPooling1D(2,name=\"pool_layer3\")(X)\n",
    "    X      = BatchNormalization()(X)\n",
    "    X      = MaxPooling1D(2)(X)  \n",
    "\n",
    "\n",
    "    #Fully Connected part\n",
    "\n",
    "    X      = Flatten()(X)\n",
    "    X      = Dense(1024,activation='tanh',name=\"first_fc_layer\",\n",
    "                         kernel_regularizer=regularizers.l2(reg))(X)\n",
    "    X      = Dense(2048,activation='tanh',name=\"second_fc_layer\",\n",
    "                         kernel_regularizer=regularizers.l2(reg))(X)\n",
    "    X      = Dense(1024,activation='tanh',name=\"third_fc_layer\",\n",
    "                          kernel_regularizer=regularizers.l2(reg))(X)\n",
    "    X      = Dense(n_classes, activation='softmax',name=\"class\"\n",
    "                          ,kernel_regularizer=regularizers.l2(reg))(X)\n",
    "\n",
    "    model  = Model(inputs=X_input,outputs=X,name=\"Conv1DResnet\")\n",
    "    model.summary()\n",
    "    return model"
   ]
  },
  {
   "cell_type": "markdown",
   "metadata": {},
   "source": [
    "### Model Training and compiling"
   ]
  },
  {
   "cell_type": "code",
   "execution_count": 8,
   "metadata": {},
   "outputs": [
    {
     "name": "stderr",
     "output_type": "stream",
     "text": [
      "/home/ismael/anaconda3/lib/python3.6/site-packages/ipykernel_launcher.py:26: ParserWarning: Falling back to the 'python' engine because the 'c' engine does not support regex separators (separators > 1 char and different from '\\s+' are interpreted as regex); you can avoid this warning by specifying engine='python'.\n"
     ]
    },
    {
     "name": "stdout",
     "output_type": "stream",
     "text": [
      "0.4143489518082352\n",
      "0.2382861438236031\n",
      "0.3473649043681617\n"
     ]
    },
    {
     "data": {
      "text/plain": [
       "<matplotlib.axes._subplots.AxesSubplot at 0x7ff484392ac8>"
      ]
     },
     "execution_count": 8,
     "metadata": {},
     "output_type": "execute_result"
    },
    {
     "data": {
      "image/png": "[encoded data removed]",
      "text/plain": [
       "<Figure size 432x288 with 1 Axes>"
      ]
     },
     "metadata": {
      "needs_background": "light"
     },
     "output_type": "display_data"
    }
   ],
   "source": [
    "data = load_data()\n",
    "\n",
    "coil = data.loc[data['Class'] == 0]\n",
    "fita = data.loc[data['Class'] == 1]\n",
    "helice = data.loc[data['Class'] == 2]\n",
    "\n",
    "print(len(coil)/len(data))\n",
    "print(len(fita)/len(data))\n",
    "print(len(helice)/len(data))\n",
    "sns.countplot(x='Class', data=data, palette='RdBu')\n"
   ]
  },
  {
   "cell_type": "code",
   "execution_count": 11,
   "metadata": {},
   "outputs": [
    {
     "name": "stdout",
     "output_type": "stream",
     "text": [
      "(11973, 9, 21, 1)\n",
      "(11973, 9, 21, 1)\n"
     ]
    }
   ],
   "source": [
    "X = data.drop(['Class'], axis=1)\n",
    "y = data['Class']\n",
    "\n",
    "X = np.asarray(X)\n",
    "X = position_values_to_scores(X)\n",
    "\n",
    "print(X.shape)\n",
    "X,y = sklearn.utils.shuffle([X,y])\n",
    "X_train, X_test, y_train, y_test = train_test_split(X, y, test_size=.2)\n",
    "\n",
    "y_train = keras.utils.to_categorical(y_train, 3)\n",
    "y_test = keras.utils.to_categorical(y_test, 3)"
   ]
  },
  {
   "cell_type": "code",
   "execution_count": 12,
   "metadata": {},
   "outputs": [
    {
     "name": "stdout",
     "output_type": "stream",
     "text": [
      "3954\n",
      "2276\n",
      "3348\n"
     ]
    },
    {
     "ename": "AttributeError",
     "evalue": "'numpy.ndarray' object has no attribute 'get'",
     "output_type": "error",
     "traceback": [
      "\u001b[0;31m---------------------------------------------------------------------------\u001b[0m",
      "\u001b[0;31mAttributeError\u001b[0m                            Traceback (most recent call last)",
      "\u001b[0;32m<ipython-input-12-54bf3e3ae92f>\u001b[0m in \u001b[0;36m<module>\u001b[0;34m\u001b[0m\n\u001b[1;32m      8\u001b[0m \u001b[0mprint\u001b[0m\u001b[0;34m(\u001b[0m\u001b[0mlen\u001b[0m\u001b[0;34m(\u001b[0m\u001b[0mfita\u001b[0m\u001b[0;34m)\u001b[0m\u001b[0;34m)\u001b[0m\u001b[0;34m\u001b[0m\u001b[0;34m\u001b[0m\u001b[0m\n\u001b[1;32m      9\u001b[0m \u001b[0mprint\u001b[0m\u001b[0;34m(\u001b[0m\u001b[0mlen\u001b[0m\u001b[0;34m(\u001b[0m\u001b[0mhelice\u001b[0m\u001b[0;34m)\u001b[0m\u001b[0;34m)\u001b[0m\u001b[0;34m\u001b[0m\u001b[0;34m\u001b[0m\u001b[0m\n\u001b[0;32m---> 10\u001b[0;31m \u001b[0msns\u001b[0m\u001b[0;34m.\u001b[0m\u001b[0mcountplot\u001b[0m\u001b[0;34m(\u001b[0m\u001b[0mx\u001b[0m\u001b[0;34m=\u001b[0m\u001b[0;34m'Class'\u001b[0m\u001b[0;34m,\u001b[0m \u001b[0mdata\u001b[0m\u001b[0;34m=\u001b[0m\u001b[0mdata\u001b[0m\u001b[0;34m,\u001b[0m \u001b[0mpalette\u001b[0m\u001b[0;34m=\u001b[0m\u001b[0;34m'RdBu'\u001b[0m\u001b[0;34m)\u001b[0m\u001b[0;34m\u001b[0m\u001b[0;34m\u001b[0m\u001b[0m\n\u001b[0m",
      "\u001b[0;32m~/anaconda3/lib/python3.6/site-packages/seaborn/categorical.py\u001b[0m in \u001b[0;36mcountplot\u001b[0;34m(x, y, hue, data, order, hue_order, orient, color, palette, saturation, dodge, ax, **kwargs)\u001b[0m\n\u001b[1;32m   3551\u001b[0m                           \u001b[0mestimator\u001b[0m\u001b[0;34m,\u001b[0m \u001b[0mci\u001b[0m\u001b[0;34m,\u001b[0m \u001b[0mn_boot\u001b[0m\u001b[0;34m,\u001b[0m \u001b[0munits\u001b[0m\u001b[0;34m,\u001b[0m\u001b[0;34m\u001b[0m\u001b[0;34m\u001b[0m\u001b[0m\n\u001b[1;32m   3552\u001b[0m                           \u001b[0morient\u001b[0m\u001b[0;34m,\u001b[0m \u001b[0mcolor\u001b[0m\u001b[0;34m,\u001b[0m \u001b[0mpalette\u001b[0m\u001b[0;34m,\u001b[0m \u001b[0msaturation\u001b[0m\u001b[0;34m,\u001b[0m\u001b[0;34m\u001b[0m\u001b[0;34m\u001b[0m\u001b[0m\n\u001b[0;32m-> 3553\u001b[0;31m                           errcolor, errwidth, capsize, dodge)\n\u001b[0m\u001b[1;32m   3554\u001b[0m \u001b[0;34m\u001b[0m\u001b[0m\n\u001b[1;32m   3555\u001b[0m     \u001b[0mplotter\u001b[0m\u001b[0;34m.\u001b[0m\u001b[0mvalue_label\u001b[0m \u001b[0;34m=\u001b[0m \u001b[0;34m\"count\"\u001b[0m\u001b[0;34m\u001b[0m\u001b[0;34m\u001b[0m\u001b[0m\n",
      "\u001b[0;32m~/anaconda3/lib/python3.6/site-packages/seaborn/categorical.py\u001b[0m in \u001b[0;36m__init__\u001b[0;34m(self, x, y, hue, data, order, hue_order, estimator, ci, n_boot, units, orient, color, palette, saturation, errcolor, errwidth, capsize, dodge)\u001b[0m\n\u001b[1;32m   1605\u001b[0m         \u001b[0;34m\"\"\"Initialize the plotter.\"\"\"\u001b[0m\u001b[0;34m\u001b[0m\u001b[0;34m\u001b[0m\u001b[0m\n\u001b[1;32m   1606\u001b[0m         self.establish_variables(x, y, hue, data, orient,\n\u001b[0;32m-> 1607\u001b[0;31m                                  order, hue_order, units)\n\u001b[0m\u001b[1;32m   1608\u001b[0m         \u001b[0mself\u001b[0m\u001b[0;34m.\u001b[0m\u001b[0mestablish_colors\u001b[0m\u001b[0;34m(\u001b[0m\u001b[0mcolor\u001b[0m\u001b[0;34m,\u001b[0m \u001b[0mpalette\u001b[0m\u001b[0;34m,\u001b[0m \u001b[0msaturation\u001b[0m\u001b[0;34m)\u001b[0m\u001b[0;34m\u001b[0m\u001b[0;34m\u001b[0m\u001b[0m\n\u001b[1;32m   1609\u001b[0m         \u001b[0mself\u001b[0m\u001b[0;34m.\u001b[0m\u001b[0mestimate_statistic\u001b[0m\u001b[0;34m(\u001b[0m\u001b[0mestimator\u001b[0m\u001b[0;34m,\u001b[0m \u001b[0mci\u001b[0m\u001b[0;34m,\u001b[0m \u001b[0mn_boot\u001b[0m\u001b[0;34m)\u001b[0m\u001b[0;34m\u001b[0m\u001b[0;34m\u001b[0m\u001b[0m\n",
      "\u001b[0;32m~/anaconda3/lib/python3.6/site-packages/seaborn/categorical.py\u001b[0m in \u001b[0;36mestablish_variables\u001b[0;34m(self, x, y, hue, data, orient, order, hue_order, units)\u001b[0m\n\u001b[1;32m    144\u001b[0m             \u001b[0;31m# See if we need to get variables from `data`\u001b[0m\u001b[0;34m\u001b[0m\u001b[0;34m\u001b[0m\u001b[0;34m\u001b[0m\u001b[0m\n\u001b[1;32m    145\u001b[0m             \u001b[0;32mif\u001b[0m \u001b[0mdata\u001b[0m \u001b[0;32mis\u001b[0m \u001b[0;32mnot\u001b[0m \u001b[0;32mNone\u001b[0m\u001b[0;34m:\u001b[0m\u001b[0;34m\u001b[0m\u001b[0;34m\u001b[0m\u001b[0m\n\u001b[0;32m--> 146\u001b[0;31m                 \u001b[0mx\u001b[0m \u001b[0;34m=\u001b[0m \u001b[0mdata\u001b[0m\u001b[0;34m.\u001b[0m\u001b[0mget\u001b[0m\u001b[0;34m(\u001b[0m\u001b[0mx\u001b[0m\u001b[0;34m,\u001b[0m \u001b[0mx\u001b[0m\u001b[0;34m)\u001b[0m\u001b[0;34m\u001b[0m\u001b[0;34m\u001b[0m\u001b[0m\n\u001b[0m\u001b[1;32m    147\u001b[0m                 \u001b[0my\u001b[0m \u001b[0;34m=\u001b[0m \u001b[0mdata\u001b[0m\u001b[0;34m.\u001b[0m\u001b[0mget\u001b[0m\u001b[0;34m(\u001b[0m\u001b[0my\u001b[0m\u001b[0;34m,\u001b[0m \u001b[0my\u001b[0m\u001b[0;34m)\u001b[0m\u001b[0;34m\u001b[0m\u001b[0;34m\u001b[0m\u001b[0m\n\u001b[1;32m    148\u001b[0m                 \u001b[0mhue\u001b[0m \u001b[0;34m=\u001b[0m \u001b[0mdata\u001b[0m\u001b[0;34m.\u001b[0m\u001b[0mget\u001b[0m\u001b[0;34m(\u001b[0m\u001b[0mhue\u001b[0m\u001b[0;34m,\u001b[0m \u001b[0mhue\u001b[0m\u001b[0;34m)\u001b[0m\u001b[0;34m\u001b[0m\u001b[0;34m\u001b[0m\u001b[0m\n",
      "\u001b[0;31mAttributeError\u001b[0m: 'numpy.ndarray' object has no attribute 'get'"
     ]
    }
   ],
   "source": [
    "data = y_train\n",
    "\n",
    "coil = [x for x in data if list(x) == [1,0,0]]\n",
    "fita = [x for x in data if list(x) == [0,1,0]]\n",
    "helice = [x for x in data if list(x) == [0,0,1]]\n",
    "\n",
    "print(len(coil))\n",
    "print(len(fita))\n",
    "print(len(helice))\n",
    "sns.countplot(x='Class', data=data, palette='RdBu')"
   ]
  },
  {
   "cell_type": "code",
   "execution_count": 11,
   "metadata": {
    "scrolled": true
   },
   "outputs": [
    {
     "name": "stdout",
     "output_type": "stream",
     "text": [
      "_________________________________________________________________\n",
      "Layer (type)                 Output Shape              Param #   \n",
      "=================================================================\n",
      "conv1d_15 (Conv1D)           (None, 9, 128)            256       \n",
      "_________________________________________________________________\n",
      "conv1d_16 (Conv1D)           (None, 9, 256)            33024     \n",
      "_________________________________________________________________\n",
      "conv1d_17 (Conv1D)           (None, 5, 512)            655872    \n",
      "_________________________________________________________________\n",
      "conv1d_18 (Conv1D)           (None, 1, 1024)           2622464   \n",
      "_________________________________________________________________\n",
      "average_pooling1d_4 (Average (None, 1, 1024)           0         \n",
      "_________________________________________________________________\n",
      "batch_normalization_6 (Batch (None, 1, 1024)           4096      \n",
      "_________________________________________________________________\n",
      "flatten_4 (Flatten)          (None, 1024)              0         \n",
      "_________________________________________________________________\n",
      "first_fc_layer (Dense)       (None, 1024)              1049600   \n",
      "_________________________________________________________________\n",
      "second_fc_layer (Dense)      (None, 2048)              2099200   \n",
      "_________________________________________________________________\n",
      "third_fc_layer (Dense)       (None, 1024)              2098176   \n",
      "_________________________________________________________________\n",
      "dense_3 (Dense)              (None, 3)                 3075      \n",
      "=================================================================\n",
      "Total params: 8,565,763\n",
      "Trainable params: 8,563,715\n",
      "Non-trainable params: 2,048\n",
      "_________________________________________________________________\n"
     ]
    },
    {
     "ename": "AttributeError",
     "evalue": "'NoneType' object has no attribute 'compile'",
     "output_type": "error",
     "traceback": [
      "\u001b[0;31m---------------------------------------------------------------------------\u001b[0m",
      "\u001b[0;31mAttributeError\u001b[0m                            Traceback (most recent call last)",
      "\u001b[0;32m<ipython-input-11-8d9f399635f8>\u001b[0m in \u001b[0;36m<module>\u001b[0;34m\u001b[0m\n\u001b[1;32m      7\u001b[0m \u001b[0;34m\u001b[0m\u001b[0m\n\u001b[1;32m      8\u001b[0m \u001b[0;34m\u001b[0m\u001b[0m\n\u001b[0;32m----> 9\u001b[0;31m \u001b[0mmodel\u001b[0m\u001b[0;34m.\u001b[0m\u001b[0mcompile\u001b[0m\u001b[0;34m(\u001b[0m\u001b[0mloss\u001b[0m\u001b[0;34m=\u001b[0m\u001b[0;34m'categorical_crossentropy'\u001b[0m\u001b[0;34m,\u001b[0m \u001b[0moptimizer\u001b[0m\u001b[0;34m=\u001b[0m\u001b[0;34m'adamax'\u001b[0m\u001b[0;34m,\u001b[0m \u001b[0mmetrics\u001b[0m\u001b[0;34m=\u001b[0m\u001b[0;34m[\u001b[0m\u001b[0;34m'accuracy'\u001b[0m\u001b[0;34m]\u001b[0m\u001b[0;34m)\u001b[0m\u001b[0;34m\u001b[0m\u001b[0;34m\u001b[0m\u001b[0m\n\u001b[0m\u001b[1;32m     10\u001b[0m \u001b[0;34m\u001b[0m\u001b[0m\n\u001b[1;32m     11\u001b[0m \u001b[0mhist\u001b[0m \u001b[0;34m=\u001b[0m \u001b[0mmodel\u001b[0m\u001b[0;34m.\u001b[0m\u001b[0mfit\u001b[0m\u001b[0;34m(\u001b[0m\u001b[0mX_train\u001b[0m\u001b[0;34m,\u001b[0m \u001b[0my_train\u001b[0m\u001b[0;34m,\u001b[0m \u001b[0mbatch_size\u001b[0m\u001b[0;34m=\u001b[0m\u001b[0mbatch_size\u001b[0m\u001b[0;34m,\u001b[0m \u001b[0mepochs\u001b[0m\u001b[0;34m=\u001b[0m\u001b[0mepochs\u001b[0m\u001b[0;34m,\u001b[0m \u001b[0mvalidation_data\u001b[0m\u001b[0;34m=\u001b[0m\u001b[0;34m(\u001b[0m\u001b[0mX_test\u001b[0m\u001b[0;34m,\u001b[0m \u001b[0my_test\u001b[0m\u001b[0;34m)\u001b[0m\u001b[0;34m)\u001b[0m\u001b[0;34m\u001b[0m\u001b[0;34m\u001b[0m\u001b[0m\n",
      "\u001b[0;31mAttributeError\u001b[0m: 'NoneType' object has no attribute 'compile'"
     ]
    }
   ],
   "source": [
    "epochs = 10\n",
    "batch_size=1024\n",
    "input_shape = X.shape[1:]\n",
    "#model = oldConv1DModel(input_shape,3)\n",
    "model = newConv2DModel((input_shape,1),3)\n",
    "#model = conv1DResnet((input_shape,1),3)\n",
    "\n",
    "\n",
    "model.compile(loss='categorical_crossentropy', optimizer='adamax', metrics=['accuracy'])\n",
    "\n",
    "hist = model.fit(X_train, y_train, batch_size=batch_size, epochs=epochs, validation_data=(X_test, y_test))\n",
    "\n",
    "predictions = model.predict(X_test, batch_size=batch_size)\n",
    "value = classification_report(y_test.argmax(axis=1),\n",
    "                                  predictions.argmax(axis=1))\n",
    "print(value)\n",
    "\n",
    "\n",
    "# plot the training loss and accuracy\n",
    "plt.style.use(\"ggplot\")\n",
    "plt.figure()\n",
    "#plt.xscale('log')\n",
    "#plt.yscale('log')\n",
    "plt.ylim((0,1))\n",
    "plt.plot(np.arange(0,epochs), hist.history[\"loss\"],label=\"train_loss\")\n",
    "plt.plot(np.arange(0,epochs), hist.history[\"val_loss\"], label=\"val_loss\")\n",
    "plt.plot(np.arange(0,epochs), hist.history[\"acc\"],label=\"train_acc\")\n",
    "plt.plot(np.arange(0,epochs), hist.history[\"val_acc\"], label=\"val_acc\")\n",
    "plt.title(\"Training Loss and Accuracy\")\n",
    "plt.xlabel(\"Epoch #\")\n",
    "plt.ylabel(\"Loss/Accuracy\")\n",
    "plt.legend()"
   ]
  },
  {
   "cell_type": "code",
   "execution_count": 75,
   "metadata": {},
   "outputs": [],
   "source": [
    "from keras import backend as k\n",
    "k.clear_session()"
   ]
  },
  {
   "cell_type": "code",
   "execution_count": 53,
   "metadata": {},
   "outputs": [
    {
     "name": "stdout",
     "output_type": "stream",
     "text": [
      "[[679  71 220]\n",
      " [297 153 149]\n",
      " [334  87 405]]\n",
      "              precision    recall  f1-score   support\n",
      "\n",
      "           0       0.52      0.70      0.60       970\n",
      "           1       0.49      0.26      0.34       599\n",
      "           2       0.52      0.49      0.51       826\n",
      "\n",
      "    accuracy                           0.52      2395\n",
      "   macro avg       0.51      0.48      0.48      2395\n",
      "weighted avg       0.51      0.52      0.50      2395\n",
      "\n"
     ]
    }
   ],
   "source": [
    "from sklearn.ensemble import RandomForestClassifier\n",
    "\n",
    "X = data.drop(['Class'], axis=1)\n",
    "y = data['Class']\n",
    "\n",
    "X_train, X_test, y_train, y_test = train_test_split(X, y, test_size=.2)\n",
    "\n",
    "clf = RandomForestClassifier(n_estimators=100)\n",
    "clf.fit(X_train, y_train)\n",
    "\n",
    "print(confusion_matrix(y_test, clf.predict(X_test)))\n",
    "print(classification_report(y_test, clf.predict(X_test)))\n"
   ]
  }
 ],
 "metadata": {
  "kernelspec": {
   "display_name": "Python 3",
   "language": "python",
   "name": "python3"
  },
  "language_info": {
   "codemirror_mode": {
    "name": "ipython",
    "version": 3
   },
   "file_extension": ".py",
   "mimetype": "text/x-python",
   "name": "python",
   "nbconvert_exporter": "python",
   "pygments_lexer": "ipython3",
   "version": "3.6.8"
  }
 },
 "nbformat": 4,
 "nbformat_minor": 2
}
