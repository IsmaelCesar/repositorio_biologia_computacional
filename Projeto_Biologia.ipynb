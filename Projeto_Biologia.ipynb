{
  "nbformat": 4,
  "nbformat_minor": 0,
  "metadata": {
    "colab": {
      "name": "Projeto_Biologia.ipynb",
      "version": "0.3.2",
      "provenance": [],
      "collapsed_sections": [],
      "toc_visible": true
    },
    "language_info": {
      "codemirror_mode": {
        "name": "ipython",
        "version": 3
      },
      "file_extension": ".py",
      "mimetype": "text/x-python",
      "name": "python",
      "nbconvert_exporter": "python",
      "pygments_lexer": "ipython3",
      "version": "3.7.2"
    },
    "kernelspec": {
      "name": "python3",
      "display_name": "Python 3"
    },
    "accelerator": "GPU"
  },
  "cells": [
    {
      "cell_type": "code",
      "metadata": {
        "id": "j4mOjp4IZhht",
        "colab_type": "code",
        "colab": {}
      },
      "source": [
        "import pandas as pd\n",
        "import numpy as np\n",
        "from keras.models import Sequential\n",
        "from keras.layers import Dense, Dropout, ActivityRegularization, BatchNormalization, Conv2D, AveragePooling2D, Flatten\n",
        "from keras.layers import Input,Add,MaxPooling2D,LSTM,TimeDistributed\n",
        "from keras.models  import Model\n",
        "from keras import regularizers\n",
        "from keras.optimizers import Adamax\n",
        "import keras\n",
        "import sklearn\n",
        "from sklearn import preprocessing\n",
        "from sklearn.model_selection import train_test_split\n",
        "from sklearn.metrics import classification_report\n",
        "from sklearn.metrics import confusion_matrix\n",
        "import matplotlib.pyplot as plt\n",
        "import seaborn as sns\n",
        "\n",
        "janela = 25 #valor impar\n",
        "size = int(janela/2) #tamanho a ser incrementado nas laterais\n"
      ],
      "execution_count": 0,
      "outputs": []
    },
    {
      "cell_type": "code",
      "metadata": {
        "id": "ypmv5ArKZhiA",
        "colab_type": "code",
        "colab": {}
      },
      "source": [
        "def load(X):\n",
        "    data = X['prot']\n",
        "    classes = X['class']\n",
        "    positions = {'A':0,'C':1,'D':2,'E':3,'F':4,'G':5,'H':6,'I':7,'K':8,'L':9,'M':10,'N':11,\n",
        "                 'P':12,'Q':13,'R':14,'S':15,'T':16,'V':17,'W':18,'Y':19}\n",
        "    classes_converter = {'-': 0, 'E':1, 'H':2}\n",
        "    res = []\n",
        "    for i in range(len(data)):\n",
        "        for j in range(len(data[i])):\n",
        "            res.append(int(positions[data[i][j]])+1)\n",
        "    for i in range(size):\n",
        "        res.insert(0, 0)\n",
        "        res.append(0)\n",
        "    data =[]\n",
        "    for i in range(len(X['prot'])):\n",
        "        data.append(res[i:janela+i])\n",
        "        data[i].append(classes_converter[classes[i]])\n",
        "    columns = [[]]*(janela+1)\n",
        "    for i in range(janela):\n",
        "        columns[i] = \"Element\" + str(i)\n",
        "    columns[janela] = 'Class'\n",
        "    data = pd.DataFrame(data, columns = columns)\n",
        "    return data\n",
        "\n",
        "def load_data():\n",
        "    proteins = pd.read_csv('cb513.csv',sep='\\s*,\\s*')\n",
        "    res = load(proteins.iloc[0])\n",
        "    for i in range(1,len(proteins)):\n",
        "        aux = load(proteins.iloc[i])\n",
        "        res = res.append(aux,ignore_index = True)\n",
        "    print(res)\n",
        "    return res"
      ],
      "execution_count": 0,
      "outputs": []
    },
    {
      "cell_type": "code",
      "metadata": {
        "id": "7Kg3flBKyL-O",
        "colab_type": "code",
        "colab": {}
      },
      "source": [
        "def buildScoringMatrix():\n",
        "    \"\"\"\n",
        "    Building protein scoring matrix and creating a dictionary with the aminoacids and each of their corresponding\n",
        "    rows in the matrix\n",
        "    :return:\n",
        "    \"\"\"\n",
        "    positions = {'A':0,'C':1,'D':2,'E':3,'F':4,'G':5,'H':6,'I':7,'K':8,'L':9,'M':10,'N':11,\n",
        "                 'P':12,'Q':13,'R':14,'S':15,'T':16,'V':17,'W':18,'Y':19}\n",
        "    res = ['A','C','D','E','F','G','H','I','K','L','M','N',\n",
        "                 'P','Q','R','S','T','V','W','Y']\n",
        "    M=[[4,   0, -1, -2,  0, -1, -2, -3, -1, -1,  1,  0, -2, -2, -1, -2, -1, -2, -2, -1],\n",
        "       [-1, -2, -3 ,-3 ,-3 ,-3, -4, -4,  8, -3, -1, -1, -3, -2, -1, -2, -1, -2, -2, -1],\n",
        "       [3,   2, -2 ,-2 ,-1 ,-1, -3, -3, -1, -1,  1,  3, -2, -1, -1, -2, -1, -2, -2, -1],\n",
        "       [2,  -2,  1,  0,  2,  0,  3, -2, -2, -1,  0, -1,  0, -2, -2, -2, -2, -2, -3, -2],\n",
        "       [0,  -1, -1, -2, -1, -1, -2, -3, -1, -1,  3,  4, -2,  0, -1, -2, -1, -1, -1, -1],\n",
        "       [0,  -3,  3,  1,  4,  1, -1, -3, -3, -1, -2,  0, -1, -3, -2, -3, -3, -3, -3, -3],\n",
        "       [0,  -1, -1, -2, -1, -1, -2, -3, -1, -1, -3,  4, -2,  0, -1, -2, -1, -1, -1, -1],\n",
        "       [-1, -2, -3, -3, -3, -3, -4, -4,  8, -3, -1, -1, -3, -2, -2, -2, -1, -2, -2, -1],\n",
        "       [3,   0, -2, -2, -1, -1, -2, -3, -1, -1,  3,  1, -2, -1, -1, -1, -1, -1, -1, -1],\n",
        "       [1,  -1 ,-2 ,-2 ,-1 ,-1, -3, -3, -1, -1,  4,  3, -2,  0,  0, -1, -1, -1, -1, -1],\n",
        "       [0,   6, -4, -4, -3 ,-3, -3, -3, -2, -3,  0, -2, -3, -1, -2, -2, -2, -3, -2, -2],\n",
        "       [0,  -3 , 1,  4,  1 , 2,  0, -2, -3, -1, -2, -1, -1, -3, -2, -3, -2, -2, -4, -3],\n",
        "       [2,   0 ,-2, -2, -1, -2, -3, -3, -1, -1,  4,  1, -2,  0,  0, -1,  0, -1, -1,  0],\n",
        "       [-2, -1 ,-3 ,-4 ,-3, -3, -4, -4, -2, -4,  0, -1, -3,  3,  0, -1, -1, -2,  6,  1],\n",
        "       [0 ,  6, -4, -4, -3, -3, -3, -3, -2, -3,  0, -2, -3, -1, -2, -2, -2, -3, -2, -2],\n",
        "       [1 , -1 ,-2 ,-2, -1, -1, -3, -2, -1, -2,  1,  3, -2,  0,  4, -1,  0,  0, -1,  0],\n",
        "       [0,  -2,  1, -1,  2,  0, -2, -3, -3, -1,  2,  3, -1, -1, -1, -2, -1, -2, -2, -1],\n",
        "       [0,  -3,  3,  1,  4,  1, -1, -3, -3, -1, -2,  0, -1, -3, -2, -3, -3, -3, -3, -3],\n",
        "       [0 , -1 ,-2, -2, -1, -1, -3, -3, -1, -2,  2,  3, -2,  0,  0, -1,  3,  1, -1,  0],\n",
        "       [0,  -3,  3,  1,  4,  1, -1, -3, -3, -1, -2,  0, -1, -3, -2, -3, -3, -3, -3, -3],\n",
        "       [3,   0, -2, -2, -1, -1, -3, -3, -1, -1,  3,  1, -2,  0,  0, -1, -1, -1, -1, -1]]\n",
        "    M = np.array(M).transpose()\n",
        "    M = M.reshape(-1,21,1)\n",
        "    #M = pd.DataFrame(data=M,index=res)\n",
        "    return M\n",
        "\n",
        "def position_values_to_scores(data):\n",
        "    \"\"\"\n",
        "    :param data: The data must already be treated by the load_data and the load(X) procedures\n",
        "    the transformation is made only using the features\n",
        "    :return: data with each position value replaced by its corespondent column in the scoring matrix\n",
        "    \"\"\"\n",
        "    assert type(data) == np.ndarray\n",
        "    assert data.shape[1] == janela\n",
        "    zeros = np.zeros((21,1),dtype=np.int32).tolist()\n",
        "    M = buildScoringMatrix()\n",
        "    newData = []\n",
        "    for i,res in enumerate(data):\n",
        "        newData.append([])\n",
        "        for j,amin in enumerate(res):\n",
        "            if amin != 0:\n",
        "                newData[i].append(M[amin-1,:].tolist())\n",
        "            else:\n",
        "                newData[i].append(zeros)\n",
        "\n",
        "    return np.array(newData)"
      ],
      "execution_count": 0,
      "outputs": []
    },
    {
      "cell_type": "markdown",
      "metadata": {
        "id": "rwQeKNSlc_lc",
        "colab_type": "text"
      },
      "source": [
        "### Model's Implementation"
      ]
    },
    {
      "cell_type": "code",
      "metadata": {
        "id": "0Fwk-2qbdEXv",
        "colab_type": "code",
        "colab": {}
      },
      "source": [
        "def conv2DModel(input_shape,n_classes):\n",
        "  model = Sequential()\n",
        "  reg = 0.01\n",
        "  model.add(Conv2D(32,(3),input_shape=input_shape,use_bias=True,\n",
        "                   kernel_regularizer=regularizers.l2(reg),activation='relu'))\n",
        "  model.add(Conv2D(64,(3),use_bias=True,\n",
        "                   kernel_regularizer=regularizers.l2(reg),activation='relu'))\n",
        "  model.add(BatchNormalization())\n",
        "  model.add(Flatten())\n",
        "  model.add(Dense(64,activation='relu',use_bias=True\n",
        "                  ,name=\"first_fc_layer\",kernel_regularizer=regularizers.l2(reg)))\n",
        "  model.add(Dense(128,activation='tanh',use_bias=True\n",
        "                  ,name=\"second_fc_layer\",kernel_regularizer=regularizers.l2(reg)))\n",
        "  model.add(Dense(128,activation='tanh',use_bias=True\n",
        "                  ,name=\"third_fc_layer\",kernel_regularizer=regularizers.l2(reg)))\n",
        "  model.add(Dense(64,activation='relu',use_bias=True\n",
        "                  ,name=\"fourch_fc_layer\",kernel_regularizer=regularizers.l2(reg)))\n",
        "  model.add(Dense(n_classes,activation='softmax',use_bias=True\n",
        "                        ,kernel_regularizer=regularizers.l2(reg)))\n",
        "  model.summary()\n",
        "  return model"
      ],
      "execution_count": 0,
      "outputs": []
    },
    {
      "cell_type": "code",
      "metadata": {
        "id": "-HlZTTsTftp_",
        "colab_type": "code",
        "colab": {}
      },
      "source": [
        "def conv2DResnet(input_shape, n_classes):\n",
        "    reg = 0.01\n",
        "\n",
        "    # First Skip Layer 64\n",
        "    X_input = Input(input_shape)\n",
        "    X_skip = Conv2D(32, (3),use_bias=True,\n",
        "                    kernel_regularizer=regularizers.l2(reg), activation='relu')(X_input)\n",
        "    X = Conv2D(32, (3), use_bias=True,padding='same',\n",
        "               kernel_regularizer=regularizers.l2(reg),activation='relu')(X_skip)\n",
        "    X = Add()([X_skip, X])\n",
        "    X = BatchNormalization()(X)\n",
        "\n",
        "    # Third Skip Layer 512\n",
        "    X_skip = Conv2D(64, (3), use_bias=True,\n",
        "                    kernel_regularizer=regularizers.l2(reg), activation='relu')(X)\n",
        "    X = Conv2D(64, (3), padding='same',use_bias=True, \n",
        "               kernel_regularizer=regularizers.l2(reg),activation='relu')(X_skip)\n",
        "    X = Add()([X_skip, X])\n",
        "    X = BatchNormalization()(X)\n",
        "    X = MaxPooling2D(2)(X)\n",
        "\n",
        "    # Fully Connected part\n",
        "\n",
        "    X = Flatten()(X)\n",
        "    X = Dense(64, activation='relu', name=\"first_fc_layer\", use_bias=True,\n",
        "              kernel_regularizer=regularizers.l2(reg))(X)\n",
        "    X = Dense(128, activation='relu', name=\"second_fc_layer\", use_bias=True,\n",
        "              kernel_regularizer=regularizers.l2(reg))(X)\n",
        "    X = Dense(64, activation='relu', name=\"third_fc_layer\", use_bias=True,\n",
        "              kernel_regularizer=regularizers.l2(reg))(X)\n",
        "    X = Dense(n_classes, activation='softmax', name=\"class\", use_bias=True\n",
        "              , kernel_regularizer=regularizers.l2(reg))(X)\n",
        "\n",
        "    model = Model(inputs=X_input, outputs=X, name=\"Conv1DResnet\")\n",
        "    model.summary()\n",
        "    return model"
      ],
      "execution_count": 0,
      "outputs": []
    },
    {
      "cell_type": "markdown",
      "metadata": {
        "id": "QmLD9hkhdGDQ",
        "colab_type": "text"
      },
      "source": [
        "### Model's Training and validation"
      ]
    },
    {
      "cell_type": "code",
      "metadata": {
        "id": "KGrutOryZhiQ",
        "colab_type": "code",
        "outputId": "28b7edcc-5a44-4939-ec1f-815894b6c9ad",
        "colab": {
          "base_uri": "https://localhost:8080/",
          "height": 1000
        }
      },
      "source": [
        "data = load_data()\n",
        "\n",
        "coil = data.loc[data['Class'] == 0]\n",
        "fita = data.loc[data['Class'] == 1]\n",
        "helice = data.loc[data['Class'] == 2]\n",
        "\n",
        "print(len(coil)/len(data))\n",
        "print(len(fita)/len(data))\n",
        "print(len(helice)/len(data))\n",
        "sns.countplot(x='Class', data=data, palette='RdBu')\n",
        "\n",
        "X = data.drop(['Class'], axis=1)\n",
        "y = data['Class']"
      ],
      "execution_count": 0,
      "outputs": [
        {
          "output_type": "stream",
          "text": [
            "/usr/local/lib/python3.6/dist-packages/ipykernel_launcher.py:26: ParserWarning: Falling back to the 'python' engine because the 'c' engine does not support regex separators (separators > 1 char and different from '\\s+' are interpreted as regex); you can avoid this warning by specifying engine='python'.\n"
          ],
          "name": "stderr"
        },
        {
          "output_type": "stream",
          "text": [
            "       Element0  Element1  Element2  ...  Element23  Element24  Class\n",
            "0             0         0         0  ...         20         11      0\n",
            "1             0         0         0  ...         11          5      0\n",
            "2             0         0         0  ...          5         19      1\n",
            "3             0         0         0  ...         19          1      1\n",
            "4             0         0         0  ...          1         13      1\n",
            "5             0         0         0  ...         13         12      1\n",
            "6             0         0         0  ...         12          2      1\n",
            "7             0         0         0  ...          2         12      1\n",
            "8             0         0         0  ...         12          4      1\n",
            "9             0         0         0  ...          4         12      1\n",
            "10            0         0        16  ...         12          8      1\n",
            "11            0        16        14  ...          8         18      1\n",
            "12           16        14         8  ...         18         11      1\n",
            "13           14         8        15  ...         11          6      1\n",
            "14            8        15         7  ...          6          8      1\n",
            "15           15         7        20  ...          8         12      0\n",
            "16            7        20         9  ...         12          6      0\n",
            "17           20         9        19  ...          6         14      0\n",
            "18            9        19         4  ...         14          5      0\n",
            "19           19         4        18  ...          5         13      0\n",
            "20            4        18         4  ...         13          6      0\n",
            "21           18         4        20  ...          6         13      1\n",
            "22            4        20        11  ...         13         17      1\n",
            "23           20        11         5  ...         17          8      1\n",
            "24           11         5        19  ...          8         15      1\n",
            "25            5        19         1  ...         15          1      1\n",
            "26           19         1        13  ...          1         12      1\n",
            "27            1        13        12  ...         12          1      0\n",
            "28           13        12         2  ...          1          6      0\n",
            "29           12         2        12  ...          6          3      1\n",
            "...         ...       ...       ...  ...        ...        ...    ...\n",
            "11943         9        18        17  ...          3         18      0\n",
            "11944        18        17        18  ...         18          5      0\n",
            "11945        17        18        13  ...          5          8      0\n",
            "11946        18        13        10  ...          8         12      0\n",
            "11947        13        10         5  ...         12          1      0\n",
            "11948        10         5         4  ...          1          6      0\n",
            "11949         5         4         6  ...          6          8      2\n",
            "11950         4         6        18  ...          8          9      2\n",
            "11951         6        18        14  ...          9          6      2\n",
            "11952        18        14         9  ...          6          4      2\n",
            "11953        14         9        17  ...          4          4      2\n",
            "11954         9        17        14  ...          4         20      2\n",
            "11955        17        14        17  ...         20          3      2\n",
            "11956        14        17         8  ...          3          1      2\n",
            "11957        17         8        15  ...          1          1      2\n",
            "11958         8        15        16  ...          1         19      2\n",
            "11959        15        16         1  ...         19         12      0\n",
            "11960        16         1        16  ...         12         16      0\n",
            "11961         1        16         3  ...         16          0      0\n",
            "11962        16         3         8  ...          0          0      0\n",
            "11963         3         8        15  ...          0          0      2\n",
            "11964         8        15         3  ...          0          0      2\n",
            "11965        15         3        18  ...          0          0      2\n",
            "11966         3        18         5  ...          0          0      2\n",
            "11967        18         5         8  ...          0          0      2\n",
            "11968         5         8        12  ...          0          0      2\n",
            "11969         8        12         1  ...          0          0      2\n",
            "11970        12         1         6  ...          0          0      2\n",
            "11971         1         6         8  ...          0          0      0\n",
            "11972         6         8         9  ...          0          0      0\n",
            "\n",
            "[11973 rows x 26 columns]\n",
            "0.4143489518082352\n",
            "0.2382861438236031\n",
            "0.3473649043681617\n"
          ],
          "name": "stdout"
        },
        {
          "output_type": "display_data",
          "data": {
            "image/png": "[encoded data removed]",
            "text/plain": [
              "<Figure size 432x288 with 1 Axes>"
            ]
          },
          "metadata": {
            "tags": []
          }
        }
      ]
    },
    {
      "cell_type": "code",
      "metadata": {
        "id": "a_NcpxJcZhil",
        "colab_type": "code",
        "outputId": "102995dc-400a-48c0-b67a-328201b927d0",
        "colab": {
          "base_uri": "https://localhost:8080/",
          "height": 50
        }
      },
      "source": [
        "X = np.asarray(X)\n",
        "\n",
        "X = position_values_to_scores(X)\n",
        "\n",
        "\n",
        "#standardizing data ====================================\n",
        "sample_height = X.shape[1]\n",
        "sample_width = X.shape[2]\n",
        "last_column = 1\n",
        "\n",
        "X  = X.reshape(-1,X.shape[1]*X.shape[2]*X.shape[3])\n",
        "scaler = preprocessing.StandardScaler().fit(X)\n",
        "X = scaler.transform(X)\n",
        "X = X.reshape(-1,sample_height,sample_width,last_column)\n",
        "#=======================================================\n",
        "\n",
        "\n",
        "X,y = sklearn.utils.shuffle([X,y])\n",
        "\n",
        "print(X.shape)\n",
        "print(y.shape)\n",
        "X_train, X_test, y_train, y_test = train_test_split(X, y, test_size=.2)\n",
        "\n",
        "y_train = keras.utils.to_categorical(y_train, 3)\n",
        "y_test = keras.utils.to_categorical(y_test, 3)"
      ],
      "execution_count": 0,
      "outputs": [
        {
          "output_type": "stream",
          "text": [
            "(11973, 25, 21, 1)\n",
            "(11973,)\n"
          ],
          "name": "stdout"
        }
      ]
    },
    {
      "cell_type": "code",
      "metadata": {
        "id": "IplKmU83xq2d",
        "colab_type": "code",
        "colab": {}
      },
      "source": [
        "def evaluate_model(model,hist,X_test,y_test,batch_size,epochs):\n",
        "    predictions = model.predict(X_test, batch_size=batch_size)\n",
        "    value = classification_report(y_test.argmax(axis=1),\n",
        "                                  predictions.argmax(axis=1))\n",
        "    print(value)\n",
        "\n",
        "    # plot the training loss and accuracy\n",
        "    plt.style.use(\"ggplot\")\n",
        "    plt.figure()\n",
        "    # plt.xscale('log')\n",
        "    # plt.yscale('log')\n",
        "    plt.ylim((0, 1))\n",
        "    plt.plot(np.arange(0, epochs), hist.history[\"acc\"], label=\"train_acc\")\n",
        "    plt.plot(np.arange(0, epochs), hist.history[\"val_acc\"], label=\"val_acc\")\n",
        "    plt.title(\"Training and validation Accuracy\")\n",
        "    plt.xlabel(\"Epoch #\")\n",
        "    plt.ylabel(\"Loss/Accuracy\")\n",
        "    plt.legend()"
      ],
      "execution_count": 0,
      "outputs": []
    },
    {
      "cell_type": "code",
      "metadata": {
        "scrolled": true,
        "id": "LDIkYPchZhjk",
        "colab_type": "code",
        "outputId": "d58e409e-3ffc-4c85-f5b0-6df229baeff1",
        "colab": {
          "base_uri": "https://localhost:8080/",
          "height": 1000
        }
      },
      "source": [
        "epochs = 100\n",
        "batch_size=512\n",
        "input_shape = X.shape[1:]\n",
        "print(\"Data shape\",input_shape)\n",
        "#model = conv2DModel(input_shape,3)\n",
        "model = conv2DResnet(input_shape,3)\n",
        "\n",
        "model.compile(loss='categorical_crossentropy',\n",
        "              optimizer=keras.optimizers.SGD(lr=.01,momentum=.5), \n",
        "              metrics=['accuracy'])\n",
        "\n",
        "hist = model.fit(X_train, y_train, batch_size=batch_size, epochs=epochs, validation_data=(X_test, y_test))\n",
        "\n",
        "evaluate_model(model, hist, X_test, y_test, batch_size, epochs)"
      ],
      "execution_count": 0,
      "outputs": [
        {
          "output_type": "stream",
          "text": [
            "Data shape (25, 21, 1)\n",
            "__________________________________________________________________________________________________\n",
            "Layer (type)                    Output Shape         Param #     Connected to                     \n",
            "==================================================================================================\n",
            "input_11 (InputLayer)           (None, 25, 21, 1)    0                                            \n",
            "__________________________________________________________________________________________________\n",
            "conv2d_65 (Conv2D)              (None, 23, 19, 32)   320         input_11[0][0]                   \n",
            "__________________________________________________________________________________________________\n",
            "conv2d_66 (Conv2D)              (None, 23, 19, 32)   9248        conv2d_65[0][0]                  \n",
            "__________________________________________________________________________________________________\n",
            "add_21 (Add)                    (None, 23, 19, 32)   0           conv2d_65[0][0]                  \n",
            "                                                                 conv2d_66[0][0]                  \n",
            "__________________________________________________________________________________________________\n",
            "batch_normalization_33 (BatchNo (None, 23, 19, 32)   128         add_21[0][0]                     \n",
            "__________________________________________________________________________________________________\n",
            "conv2d_67 (Conv2D)              (None, 21, 17, 64)   18496       batch_normalization_33[0][0]     \n",
            "__________________________________________________________________________________________________\n",
            "conv2d_68 (Conv2D)              (None, 21, 17, 64)   36928       conv2d_67[0][0]                  \n",
            "__________________________________________________________________________________________________\n",
            "add_22 (Add)                    (None, 21, 17, 64)   0           conv2d_67[0][0]                  \n",
            "                                                                 conv2d_68[0][0]                  \n",
            "__________________________________________________________________________________________________\n",
            "batch_normalization_34 (BatchNo (None, 21, 17, 64)   256         add_22[0][0]                     \n",
            "__________________________________________________________________________________________________\n",
            "max_pooling2d_11 (MaxPooling2D) (None, 10, 8, 64)    0           batch_normalization_34[0][0]     \n",
            "__________________________________________________________________________________________________\n",
            "flatten_21 (Flatten)            (None, 5120)         0           max_pooling2d_11[0][0]           \n",
            "__________________________________________________________________________________________________\n",
            "first_fc_layer (Dense)          (None, 64)           327744      flatten_21[0][0]                 \n",
            "__________________________________________________________________________________________________\n",
            "second_fc_layer (Dense)         (None, 128)          8320        first_fc_layer[0][0]             \n",
            "__________________________________________________________________________________________________\n",
            "third_fc_layer (Dense)          (None, 64)           8256        second_fc_layer[0][0]            \n",
            "__________________________________________________________________________________________________\n",
            "class (Dense)                   (None, 3)            195         third_fc_layer[0][0]             \n",
            "==================================================================================================\n",
            "Total params: 409,891\n",
            "Trainable params: 409,699\n",
            "Non-trainable params: 192\n",
            "__________________________________________________________________________________________________\n",
            "Train on 9578 samples, validate on 2395 samples\n",
            "Epoch 1/20\n",
            "9578/9578 [==============================] - 4s 446us/step - loss: 5.5019 - acc: 0.3958 - val_loss: 5.4334 - val_acc: 0.4301\n",
            "Epoch 2/20\n",
            "9578/9578 [==============================] - 1s 98us/step - loss: 5.3751 - acc: 0.4667 - val_loss: 5.3452 - val_acc: 0.4593\n",
            "Epoch 3/20\n",
            "9578/9578 [==============================] - 1s 97us/step - loss: 5.2742 - acc: 0.5038 - val_loss: 5.2657 - val_acc: 0.4777\n",
            "Epoch 4/20\n",
            "9578/9578 [==============================] - 1s 97us/step - loss: 5.1771 - acc: 0.5323 - val_loss: 5.1876 - val_acc: 0.4877\n",
            "Epoch 5/20\n",
            "9578/9578 [==============================] - 1s 97us/step - loss: 5.0830 - acc: 0.5635 - val_loss: 5.1184 - val_acc: 0.4939\n",
            "Epoch 6/20\n",
            "9578/9578 [==============================] - 1s 97us/step - loss: 4.9954 - acc: 0.5772 - val_loss: 5.0435 - val_acc: 0.5048\n",
            "Epoch 7/20\n",
            "9578/9578 [==============================] - 1s 99us/step - loss: 4.9044 - acc: 0.5998 - val_loss: 4.9741 - val_acc: 0.5165\n",
            "Epoch 8/20\n",
            "9578/9578 [==============================] - 1s 98us/step - loss: 4.8235 - acc: 0.6157 - val_loss: 4.9139 - val_acc: 0.5203\n",
            "Epoch 9/20\n",
            "9578/9578 [==============================] - 1s 98us/step - loss: 4.7326 - acc: 0.6426 - val_loss: 4.8711 - val_acc: 0.5081\n",
            "Epoch 10/20\n",
            "9578/9578 [==============================] - 1s 98us/step - loss: 4.6534 - acc: 0.6554 - val_loss: 4.7806 - val_acc: 0.5357\n",
            "Epoch 11/20\n",
            "9578/9578 [==============================] - 1s 99us/step - loss: 4.5831 - acc: 0.6658 - val_loss: 4.7191 - val_acc: 0.5353\n",
            "Epoch 12/20\n",
            "9578/9578 [==============================] - 1s 99us/step - loss: 4.4968 - acc: 0.6853 - val_loss: 4.6645 - val_acc: 0.5432\n",
            "Epoch 13/20\n",
            "9578/9578 [==============================] - 1s 98us/step - loss: 4.4351 - acc: 0.6861 - val_loss: 4.6095 - val_acc: 0.5478\n",
            "Epoch 14/20\n",
            "9578/9578 [==============================] - 1s 99us/step - loss: 4.3567 - acc: 0.6998 - val_loss: 4.5318 - val_acc: 0.5649\n",
            "Epoch 15/20\n",
            "9578/9578 [==============================] - 1s 98us/step - loss: 4.3237 - acc: 0.6857 - val_loss: 4.5150 - val_acc: 0.5399\n",
            "Epoch 16/20\n",
            "9578/9578 [==============================] - 1s 99us/step - loss: 4.2640 - acc: 0.7035 - val_loss: 4.4396 - val_acc: 0.5612\n",
            "Epoch 17/20\n",
            "9578/9578 [==============================] - 1s 99us/step - loss: 4.1456 - acc: 0.7368 - val_loss: 4.4337 - val_acc: 0.5303\n",
            "Epoch 18/20\n",
            "9578/9578 [==============================] - 1s 99us/step - loss: 4.1341 - acc: 0.7117 - val_loss: 4.3185 - val_acc: 0.5775\n",
            "Epoch 19/20\n",
            "9578/9578 [==============================] - 1s 99us/step - loss: 4.0499 - acc: 0.7324 - val_loss: 4.2798 - val_acc: 0.5749\n",
            "Epoch 20/20\n",
            "9578/9578 [==============================] - 1s 99us/step - loss: 3.9571 - acc: 0.7576 - val_loss: 4.3198 - val_acc: 0.5336\n",
            "              precision    recall  f1-score   support\n",
            "\n",
            "           0       0.66      0.41      0.51       995\n",
            "           1       0.62      0.27      0.38       597\n",
            "           2       0.47      0.88      0.61       803\n",
            "\n",
            "    accuracy                           0.53      2395\n",
            "   macro avg       0.58      0.52      0.50      2395\n",
            "weighted avg       0.59      0.53      0.51      2395\n",
            "\n"
          ],
          "name": "stdout"
        },
        {
          "output_type": "display_data",
          "data": {
            "image/png": "[encoded data removed]",
            "text/plain": [
              "<Figure size 432x288 with 1 Axes>"
            ]
          },
          "metadata": {
            "tags": []
          }
        }
      ]
    },
    {
      "cell_type": "code",
      "metadata": {
        "id": "AG4kJ4T11Cpz",
        "colab_type": "code",
        "outputId": "4ce14d90-fe2b-4017-ae16-b8d93ecae224",
        "colab": {
          "base_uri": "https://localhost:8080/",
          "height": 441
        }
      },
      "source": [
        "predictions = model.predict(X_test)\n",
        "p = [ np.argmax(p)  for p in predictions]\n",
        "df = pd.DataFrame(p,index=['class'])\n",
        "\n"
      ],
      "execution_count": 0,
      "outputs": [
        {
          "output_type": "error",
          "ename": "ValueError",
          "evalue": "ignored",
          "traceback": [
            "\u001b[0;31m---------------------------------------------------------------------------\u001b[0m",
            "\u001b[0;31mValueError\u001b[0m                                Traceback (most recent call last)",
            "\u001b[0;32m/usr/local/lib/python3.6/dist-packages/pandas/core/internals/managers.py\u001b[0m in \u001b[0;36mcreate_block_manager_from_blocks\u001b[0;34m(blocks, axes)\u001b[0m\n\u001b[1;32m   1652\u001b[0m \u001b[0;34m\u001b[0m\u001b[0m\n\u001b[0;32m-> 1653\u001b[0;31m         \u001b[0mmgr\u001b[0m \u001b[0;34m=\u001b[0m \u001b[0mBlockManager\u001b[0m\u001b[0;34m(\u001b[0m\u001b[0mblocks\u001b[0m\u001b[0;34m,\u001b[0m \u001b[0maxes\u001b[0m\u001b[0;34m)\u001b[0m\u001b[0;34m\u001b[0m\u001b[0;34m\u001b[0m\u001b[0m\n\u001b[0m\u001b[1;32m   1654\u001b[0m         \u001b[0mmgr\u001b[0m\u001b[0;34m.\u001b[0m\u001b[0m_consolidate_inplace\u001b[0m\u001b[0;34m(\u001b[0m\u001b[0;34m)\u001b[0m\u001b[0;34m\u001b[0m\u001b[0;34m\u001b[0m\u001b[0m\n",
            "\u001b[0;32m/usr/local/lib/python3.6/dist-packages/pandas/core/internals/managers.py\u001b[0m in \u001b[0;36m__init__\u001b[0;34m(self, blocks, axes, do_integrity_check)\u001b[0m\n\u001b[1;32m    113\u001b[0m         \u001b[0;32mif\u001b[0m \u001b[0mdo_integrity_check\u001b[0m\u001b[0;34m:\u001b[0m\u001b[0;34m\u001b[0m\u001b[0;34m\u001b[0m\u001b[0m\n\u001b[0;32m--> 114\u001b[0;31m             \u001b[0mself\u001b[0m\u001b[0;34m.\u001b[0m\u001b[0m_verify_integrity\u001b[0m\u001b[0;34m(\u001b[0m\u001b[0;34m)\u001b[0m\u001b[0;34m\u001b[0m\u001b[0;34m\u001b[0m\u001b[0m\n\u001b[0m\u001b[1;32m    115\u001b[0m \u001b[0;34m\u001b[0m\u001b[0m\n",
            "\u001b[0;32m/usr/local/lib/python3.6/dist-packages/pandas/core/internals/managers.py\u001b[0m in \u001b[0;36m_verify_integrity\u001b[0;34m(self)\u001b[0m\n\u001b[1;32m    310\u001b[0m             \u001b[0;32mif\u001b[0m \u001b[0mblock\u001b[0m\u001b[0;34m.\u001b[0m\u001b[0m_verify_integrity\u001b[0m \u001b[0;32mand\u001b[0m \u001b[0mblock\u001b[0m\u001b[0;34m.\u001b[0m\u001b[0mshape\u001b[0m\u001b[0;34m[\u001b[0m\u001b[0;36m1\u001b[0m\u001b[0;34m:\u001b[0m\u001b[0;34m]\u001b[0m \u001b[0;34m!=\u001b[0m \u001b[0mmgr_shape\u001b[0m\u001b[0;34m[\u001b[0m\u001b[0;36m1\u001b[0m\u001b[0;34m:\u001b[0m\u001b[0;34m]\u001b[0m\u001b[0;34m:\u001b[0m\u001b[0;34m\u001b[0m\u001b[0;34m\u001b[0m\u001b[0m\n\u001b[0;32m--> 311\u001b[0;31m                 \u001b[0mconstruction_error\u001b[0m\u001b[0;34m(\u001b[0m\u001b[0mtot_items\u001b[0m\u001b[0;34m,\u001b[0m \u001b[0mblock\u001b[0m\u001b[0;34m.\u001b[0m\u001b[0mshape\u001b[0m\u001b[0;34m[\u001b[0m\u001b[0;36m1\u001b[0m\u001b[0;34m:\u001b[0m\u001b[0;34m]\u001b[0m\u001b[0;34m,\u001b[0m \u001b[0mself\u001b[0m\u001b[0;34m.\u001b[0m\u001b[0maxes\u001b[0m\u001b[0;34m)\u001b[0m\u001b[0;34m\u001b[0m\u001b[0;34m\u001b[0m\u001b[0m\n\u001b[0m\u001b[1;32m    312\u001b[0m         \u001b[0;32mif\u001b[0m \u001b[0mlen\u001b[0m\u001b[0;34m(\u001b[0m\u001b[0mself\u001b[0m\u001b[0;34m.\u001b[0m\u001b[0mitems\u001b[0m\u001b[0;34m)\u001b[0m \u001b[0;34m!=\u001b[0m \u001b[0mtot_items\u001b[0m\u001b[0;34m:\u001b[0m\u001b[0;34m\u001b[0m\u001b[0;34m\u001b[0m\u001b[0m\n",
            "\u001b[0;32m/usr/local/lib/python3.6/dist-packages/pandas/core/internals/managers.py\u001b[0m in \u001b[0;36mconstruction_error\u001b[0;34m(tot_items, block_shape, axes, e)\u001b[0m\n\u001b[1;32m   1690\u001b[0m     raise ValueError(\"Shape of passed values is {0}, indices imply {1}\".format(\n\u001b[0;32m-> 1691\u001b[0;31m         passed, implied))\n\u001b[0m\u001b[1;32m   1692\u001b[0m \u001b[0;34m\u001b[0m\u001b[0m\n",
            "\u001b[0;31mValueError\u001b[0m: Shape of passed values is (2395, 1), indices imply (1, 1)",
            "\nDuring handling of the above exception, another exception occurred:\n",
            "\u001b[0;31mValueError\u001b[0m                                Traceback (most recent call last)",
            "\u001b[0;32m<ipython-input-120-565738cc9d53>\u001b[0m in \u001b[0;36m<module>\u001b[0;34m()\u001b[0m\n\u001b[1;32m      1\u001b[0m \u001b[0mpredictions\u001b[0m \u001b[0;34m=\u001b[0m \u001b[0mmodel\u001b[0m\u001b[0;34m.\u001b[0m\u001b[0mpredict\u001b[0m\u001b[0;34m(\u001b[0m\u001b[0mX_test\u001b[0m\u001b[0;34m)\u001b[0m\u001b[0;34m\u001b[0m\u001b[0;34m\u001b[0m\u001b[0m\n\u001b[1;32m      2\u001b[0m \u001b[0mp\u001b[0m \u001b[0;34m=\u001b[0m \u001b[0;34m[\u001b[0m \u001b[0mnp\u001b[0m\u001b[0;34m.\u001b[0m\u001b[0margmax\u001b[0m\u001b[0;34m(\u001b[0m\u001b[0mp\u001b[0m\u001b[0;34m)\u001b[0m  \u001b[0;32mfor\u001b[0m \u001b[0mp\u001b[0m \u001b[0;32min\u001b[0m \u001b[0mpredictions\u001b[0m\u001b[0;34m]\u001b[0m\u001b[0;34m\u001b[0m\u001b[0;34m\u001b[0m\u001b[0m\n\u001b[0;32m----> 3\u001b[0;31m \u001b[0mdf\u001b[0m \u001b[0;34m=\u001b[0m \u001b[0mpd\u001b[0m\u001b[0;34m.\u001b[0m\u001b[0mDataFrame\u001b[0m\u001b[0;34m(\u001b[0m\u001b[0mp\u001b[0m\u001b[0;34m,\u001b[0m\u001b[0mindex\u001b[0m\u001b[0;34m=\u001b[0m\u001b[0;34m[\u001b[0m\u001b[0;34m'class'\u001b[0m\u001b[0;34m]\u001b[0m\u001b[0;34m)\u001b[0m\u001b[0;34m\u001b[0m\u001b[0;34m\u001b[0m\u001b[0m\n\u001b[0m\u001b[1;32m      4\u001b[0m \u001b[0;34m\u001b[0m\u001b[0m\n",
            "\u001b[0;32m/usr/local/lib/python3.6/dist-packages/pandas/core/frame.py\u001b[0m in \u001b[0;36m__init__\u001b[0;34m(self, data, index, columns, dtype, copy)\u001b[0m\n\u001b[1;32m    449\u001b[0m                 \u001b[0;32melse\u001b[0m\u001b[0;34m:\u001b[0m\u001b[0;34m\u001b[0m\u001b[0;34m\u001b[0m\u001b[0m\n\u001b[1;32m    450\u001b[0m                     mgr = init_ndarray(data, index, columns, dtype=dtype,\n\u001b[0;32m--> 451\u001b[0;31m                                        copy=copy)\n\u001b[0m\u001b[1;32m    452\u001b[0m             \u001b[0;32melse\u001b[0m\u001b[0;34m:\u001b[0m\u001b[0;34m\u001b[0m\u001b[0;34m\u001b[0m\u001b[0m\n\u001b[1;32m    453\u001b[0m                 \u001b[0mmgr\u001b[0m \u001b[0;34m=\u001b[0m \u001b[0minit_dict\u001b[0m\u001b[0;34m(\u001b[0m\u001b[0;34m{\u001b[0m\u001b[0;34m}\u001b[0m\u001b[0;34m,\u001b[0m \u001b[0mindex\u001b[0m\u001b[0;34m,\u001b[0m \u001b[0mcolumns\u001b[0m\u001b[0;34m,\u001b[0m \u001b[0mdtype\u001b[0m\u001b[0;34m=\u001b[0m\u001b[0mdtype\u001b[0m\u001b[0;34m)\u001b[0m\u001b[0;34m\u001b[0m\u001b[0;34m\u001b[0m\u001b[0m\n",
            "\u001b[0;32m/usr/local/lib/python3.6/dist-packages/pandas/core/internals/construction.py\u001b[0m in \u001b[0;36minit_ndarray\u001b[0;34m(values, index, columns, dtype, copy)\u001b[0m\n\u001b[1;32m    165\u001b[0m         \u001b[0mvalues\u001b[0m \u001b[0;34m=\u001b[0m \u001b[0mmaybe_infer_to_datetimelike\u001b[0m\u001b[0;34m(\u001b[0m\u001b[0mvalues\u001b[0m\u001b[0;34m)\u001b[0m\u001b[0;34m\u001b[0m\u001b[0;34m\u001b[0m\u001b[0m\n\u001b[1;32m    166\u001b[0m \u001b[0;34m\u001b[0m\u001b[0m\n\u001b[0;32m--> 167\u001b[0;31m     \u001b[0;32mreturn\u001b[0m \u001b[0mcreate_block_manager_from_blocks\u001b[0m\u001b[0;34m(\u001b[0m\u001b[0;34m[\u001b[0m\u001b[0mvalues\u001b[0m\u001b[0;34m]\u001b[0m\u001b[0;34m,\u001b[0m \u001b[0;34m[\u001b[0m\u001b[0mcolumns\u001b[0m\u001b[0;34m,\u001b[0m \u001b[0mindex\u001b[0m\u001b[0;34m]\u001b[0m\u001b[0;34m)\u001b[0m\u001b[0;34m\u001b[0m\u001b[0;34m\u001b[0m\u001b[0m\n\u001b[0m\u001b[1;32m    168\u001b[0m \u001b[0;34m\u001b[0m\u001b[0m\n\u001b[1;32m    169\u001b[0m \u001b[0;34m\u001b[0m\u001b[0m\n",
            "\u001b[0;32m/usr/local/lib/python3.6/dist-packages/pandas/core/internals/managers.py\u001b[0m in \u001b[0;36mcreate_block_manager_from_blocks\u001b[0;34m(blocks, axes)\u001b[0m\n\u001b[1;32m   1658\u001b[0m         \u001b[0mblocks\u001b[0m \u001b[0;34m=\u001b[0m \u001b[0;34m[\u001b[0m\u001b[0mgetattr\u001b[0m\u001b[0;34m(\u001b[0m\u001b[0mb\u001b[0m\u001b[0;34m,\u001b[0m \u001b[0;34m'values'\u001b[0m\u001b[0;34m,\u001b[0m \u001b[0mb\u001b[0m\u001b[0;34m)\u001b[0m \u001b[0;32mfor\u001b[0m \u001b[0mb\u001b[0m \u001b[0;32min\u001b[0m \u001b[0mblocks\u001b[0m\u001b[0;34m]\u001b[0m\u001b[0;34m\u001b[0m\u001b[0;34m\u001b[0m\u001b[0m\n\u001b[1;32m   1659\u001b[0m         \u001b[0mtot_items\u001b[0m \u001b[0;34m=\u001b[0m \u001b[0msum\u001b[0m\u001b[0;34m(\u001b[0m\u001b[0mb\u001b[0m\u001b[0;34m.\u001b[0m\u001b[0mshape\u001b[0m\u001b[0;34m[\u001b[0m\u001b[0;36m0\u001b[0m\u001b[0;34m]\u001b[0m \u001b[0;32mfor\u001b[0m \u001b[0mb\u001b[0m \u001b[0;32min\u001b[0m \u001b[0mblocks\u001b[0m\u001b[0;34m)\u001b[0m\u001b[0;34m\u001b[0m\u001b[0;34m\u001b[0m\u001b[0m\n\u001b[0;32m-> 1660\u001b[0;31m         \u001b[0mconstruction_error\u001b[0m\u001b[0;34m(\u001b[0m\u001b[0mtot_items\u001b[0m\u001b[0;34m,\u001b[0m \u001b[0mblocks\u001b[0m\u001b[0;34m[\u001b[0m\u001b[0;36m0\u001b[0m\u001b[0;34m]\u001b[0m\u001b[0;34m.\u001b[0m\u001b[0mshape\u001b[0m\u001b[0;34m[\u001b[0m\u001b[0;36m1\u001b[0m\u001b[0;34m:\u001b[0m\u001b[0;34m]\u001b[0m\u001b[0;34m,\u001b[0m \u001b[0maxes\u001b[0m\u001b[0;34m,\u001b[0m \u001b[0me\u001b[0m\u001b[0;34m)\u001b[0m\u001b[0;34m\u001b[0m\u001b[0;34m\u001b[0m\u001b[0m\n\u001b[0m\u001b[1;32m   1661\u001b[0m \u001b[0;34m\u001b[0m\u001b[0m\n\u001b[1;32m   1662\u001b[0m \u001b[0;34m\u001b[0m\u001b[0m\n",
            "\u001b[0;32m/usr/local/lib/python3.6/dist-packages/pandas/core/internals/managers.py\u001b[0m in \u001b[0;36mconstruction_error\u001b[0;34m(tot_items, block_shape, axes, e)\u001b[0m\n\u001b[1;32m   1689\u001b[0m         \u001b[0;32mraise\u001b[0m \u001b[0mValueError\u001b[0m\u001b[0;34m(\u001b[0m\u001b[0;34m\"Empty data passed with indices specified.\"\u001b[0m\u001b[0;34m)\u001b[0m\u001b[0;34m\u001b[0m\u001b[0;34m\u001b[0m\u001b[0m\n\u001b[1;32m   1690\u001b[0m     raise ValueError(\"Shape of passed values is {0}, indices imply {1}\".format(\n\u001b[0;32m-> 1691\u001b[0;31m         passed, implied))\n\u001b[0m\u001b[1;32m   1692\u001b[0m \u001b[0;34m\u001b[0m\u001b[0m\n\u001b[1;32m   1693\u001b[0m \u001b[0;34m\u001b[0m\u001b[0m\n",
            "\u001b[0;31mValueError\u001b[0m: Shape of passed values is (2395, 1), indices imply (1, 1)"
          ]
        }
      ]
    },
    {
      "cell_type": "code",
      "metadata": {
        "id": "24QtamTpZhj3",
        "colab_type": "code",
        "colab": {}
      },
      "source": [
        "from keras import backend as k\n",
        "k.clear_session()"
      ],
      "execution_count": 0,
      "outputs": []
    },
    {
      "cell_type": "code",
      "metadata": {
        "id": "42jqxQK7ZhkH",
        "colab_type": "code",
        "colab": {}
      },
      "source": [
        "from sklearn.ensemble import RandomForestClassifier\n",
        "\n",
        "X = data.drop(['Class'], axis=1)\n",
        "y = data['Class']\n",
        "\n",
        "X_train, X_test, y_train, y_test = train_test_split(X, y, test_size=.2)\n",
        "\n",
        "clf = RandomForestClassifier(n_estimators=100)\n",
        "clf.fit(X_train, y_train)\n",
        "\n",
        "print(confusion_matrix(y_test, clf.predict(X_test)))\n",
        "print(classification_report(y_test, clf.predict(X_test)))\n"
      ],
      "execution_count": 0,
      "outputs": []
    }
  ]
}