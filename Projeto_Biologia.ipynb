{
 "cells": [
  {
   "cell_type": "code",
   "execution_count": 57,
   "metadata": {
    "colab": {},
    "colab_type": "code",
    "id": "j4mOjp4IZhht"
   },
   "outputs": [],
   "source": [
    "import pandas as pd\n",
    "import numpy as np\n",
    "from keras.models import Sequential\n",
    "from keras.layers import Dense, Dropout, ActivityRegularization, BatchNormalization, Conv1D, AveragePooling1D, Flatten\n",
    "from keras.layers import Input,Add,MaxPooling1D,LSTM,TimeDistributed\n",
    "from keras.models  import Model\n",
    "from keras import regularizers\n",
    "from keras.optimizers import Adamax\n",
    "import keras\n",
    "import sklearn\n",
    "from sklearn import preprocessing\n",
    "from sklearn.model_selection import train_test_split\n",
    "from sklearn.metrics import classification_report\n",
    "from sklearn.metrics import confusion_matrix\n",
    "import matplotlib.pyplot as plt\n",
    "import seaborn as sns\n",
    "\n",
    "janela = 9 #valor impar\n",
    "size = int(janela/2) #tamanho a ser incrementado nas laterais\n"
   ]
  },
  {
   "cell_type": "code",
   "execution_count": 58,
   "metadata": {
    "colab": {},
    "colab_type": "code",
    "id": "ypmv5ArKZhiA"
   },
   "outputs": [],
   "source": [
    "def load(X):\n",
    "        data = X['prot']\n",
    "        classes = X['class']\n",
    "        positions = {'A':0,'C':1,'D':2,'E':3,'F':4,'G':5,'H':6,'I':7,'K':8,'L':9,'M':10,'N':11,\n",
    "                     'P':12,'Q':13,'R':14,'S':15,'T':16,'V':17,'W':18,'Y':19}\n",
    "        classes_converter = {'-': 0, 'E':1, 'H':2}\n",
    "        res = []\n",
    "        for i in range(len(data)):\n",
    "            for j in range(len(data[i])):\n",
    "                res.append(int(positions[data[i][j]])+1)\n",
    "        for i in range(size):\n",
    "            res.insert(0, 0)\n",
    "            res.append(0)\n",
    "        data =[]\n",
    "        for i in range(len(X['prot'])):\n",
    "            data.append(res[i:janela+i])\n",
    "            data[i].append(classes_converter[classes[i]])\n",
    "        columns = [[]]*(janela+1)\n",
    "        for i in range(janela):\n",
    "            columns[i] = \"Element\" + str(i)\n",
    "        columns[janela] = 'Class'\n",
    "        data = pd.DataFrame(data, columns = columns)\n",
    "        return data\n",
    "\n",
    "def load_data():\n",
    "        proteins = pd.read_csv('cb513.csv',sep='\\\\s*,\\\\s*')\n",
    "        res = load(proteins.iloc[0])\n",
    "        for i in range(1,len(proteins)):\n",
    "            aux = load(proteins.iloc[i])\n",
    "            res = res.append(aux,ignore_index = True)\n",
    "        return res"
   ]
  },
  {
   "cell_type": "markdown",
   "metadata": {
    "colab_type": "text",
    "id": "rwQeKNSlc_lc"
   },
   "source": [
    "### Model's Implementation"
   ]
  },
  {
   "cell_type": "code",
   "execution_count": 59,
   "metadata": {
    "colab": {},
    "colab_type": "code",
    "id": "0Fwk-2qbdEXv"
   },
   "outputs": [],
   "source": [
    "def conv1DModel(input_shape,n_classes):\n",
    "    model = Sequential()\n",
    "    reg = 0.01\n",
    "    model.add(Conv1D(32,(3),input_shape=input_shape,use_bias=True,\n",
    "                   kernel_regularizer=regularizers.l2(reg),activation='relu'))\n",
    "    model.add(Conv1D(64,(3),use_bias=True,\n",
    "                   kernel_regularizer=regularizers.l2(reg),activation='relu'))\n",
    "    model.add(BatchNormalization())\n",
    "    model.add(Flatten())\n",
    "    model.add(Dense(64,activation='relu',use_bias=True\n",
    "                  ,name=\"first_fc_layer\",kernel_regularizer=regularizers.l2(reg)))\n",
    "    model.add(Dense(128,activation='tanh',use_bias=True\n",
    "                  ,name=\"second_fc_layer\",kernel_regularizer=regularizers.l2(reg)))\n",
    "    model.add(Dense(128,activation='tanh',use_bias=True\n",
    "                  ,name=\"third_fc_layer\",kernel_regularizer=regularizers.l2(reg)))\n",
    "    model.add(Dense(64,activation='relu',use_bias=True\n",
    "                  ,name=\"fourch_fc_layer\",kernel_regularizer=regularizers.l2(reg)))\n",
    "    model.add(Dense(n_classes,activation='softmax',use_bias=True\n",
    "                        ,kernel_regularizer=regularizers.l2(reg)))\n",
    "    model.summary()\n",
    "    return model"
   ]
  },
  {
   "cell_type": "code",
   "execution_count": 60,
   "metadata": {
    "colab": {},
    "colab_type": "code",
    "id": "-HlZTTsTftp_"
   },
   "outputs": [],
   "source": [
    "def conv1DResnet(input_shape, n_classes):\n",
    "    reg = 0.01\n",
    "\n",
    "    # First Skip Layer 64\n",
    "    X_input = Input(input_shape)\n",
    "    X_skip = Conv1D(32, (3),use_bias=True,\n",
    "                    kernel_regularizer=regularizers.l2(reg), activation='relu')(X_input)\n",
    "    X = Conv1D(32, (3), use_bias=True,padding='same',\n",
    "               kernel_regularizer=regularizers.l2(reg),activation='relu')(X_skip)\n",
    "    X = Add()([X_skip, X])\n",
    "    X = BatchNormalization()(X)\n",
    "\n",
    "    # Third Skip Layer 512\n",
    "    X_skip = Conv1D(64, (3), use_bias=True,\n",
    "                    kernel_regularizer=regularizers.l2(reg), activation='relu')(X)\n",
    "    X = Conv1D(64, (3), padding='same',use_bias=True,\n",
    "               kernel_regularizer=regularizers.l2(reg),activation='relu')(X_skip)\n",
    "    X = Add()([X_skip, X])\n",
    "    X = BatchNormalization()(X)\n",
    "    X = MaxPooling1D(2)(X)\n",
    "\n",
    "    # Fully Connected part\n",
    "\n",
    "    X = Flatten()(X)\n",
    "    X = Dense(64, activation='relu', name=\"first_fc_layer\", use_bias=True,\n",
    "              kernel_regularizer=regularizers.l2(reg))(X)\n",
    "    X = Dense(128, activation='relu', name=\"second_fc_layer\", use_bias=True,\n",
    "              kernel_regularizer=regularizers.l2(reg))(X)\n",
    "    X = Dense(64, activation='relu', name=\"third_fc_layer\", use_bias=True,\n",
    "              kernel_regularizer=regularizers.l2(reg))(X)\n",
    "    X = Dense(n_classes, activation='softmax', name=\"class\", use_bias=True\n",
    "              , kernel_regularizer=regularizers.l2(reg))(X)\n",
    "\n",
    "    model = Model(inputs=X_input, outputs=X, name=\"Conv1DResnet\")\n",
    "    model.summary()\n",
    "    return model"
   ]
  },
  {
   "cell_type": "markdown",
   "metadata": {
    "colab_type": "text",
    "id": "QmLD9hkhdGDQ"
   },
   "source": [
    "### Model's Training and validation"
   ]
  },
  {
   "cell_type": "code",
   "execution_count": 61,
   "metadata": {
    "colab": {},
    "colab_type": "code",
    "id": "IplKmU83xq2d"
   },
   "outputs": [],
   "source": [
    "def evaluate_model(model,hist,X_test,y_test,batch_size,epochs):\n",
    "    predictions = model.predict(X_test, batch_size=batch_size)\n",
    "    value = classification_report(y_test.argmax(axis=1),\n",
    "                                  predictions.argmax(axis=1))\n",
    "    print(value)\n",
    "\n",
    "    # plot the training loss and accuracy\n",
    "    plt.style.use(\"ggplot\")\n",
    "    plt.figure()\n",
    "    # plt.xscale('log')\n",
    "    # plt.yscale('log')\n",
    "    plt.ylim((0, 1))\n",
    "    plt.plot(np.arange(0, epochs), hist.history[\"acc\"], label=\"train_acc\")\n",
    "    plt.plot(np.arange(0, epochs), hist.history[\"val_acc\"], label=\"val_acc\")\n",
    "    plt.title(\"Training and validation Accuracy\")\n",
    "    plt.xlabel(\"Epoch #\")\n",
    "    plt.ylabel(\"Loss/Accuracy\")\n",
    "    plt.legend()"
   ]
  },
  {
   "cell_type": "code",
   "execution_count": 62,
   "metadata": {
    "colab": {
     "base_uri": "https://localhost:8080/",
     "height": 1000
    },
    "colab_type": "code",
    "id": "KGrutOryZhiQ",
    "outputId": "28b7edcc-5a44-4939-ec1f-815894b6c9ad"
   },
   "outputs": [
    {
     "name": "stderr",
     "output_type": "stream",
     "text": [
      "/home/ismael/anaconda3/lib/python3.6/site-packages/ipykernel_launcher.py:26: ParserWarning: Falling back to the 'python' engine because the 'c' engine does not support regex separators (separators > 1 char and different from '\\s+' are interpreted as regex); you can avoid this warning by specifying engine='python'.\n"
     ]
    },
    {
     "name": "stdout",
     "output_type": "stream",
     "text": [
      "0.4143489518082352\n",
      "0.2382861438236031\n",
      "0.3473649043681617\n"
     ]
    },
    {
     "data": {
      "image/png": "[encoded data removed]",
      "text/plain": [
       "<Figure size 432x288 with 1 Axes>"
      ]
     },
     "metadata": {
      "needs_background": "light"
     },
     "output_type": "display_data"
    }
   ],
   "source": [
    "data = load_data()\n",
    "\n",
    "coil = data.loc[data['Class'] == 0]\n",
    "fita = data.loc[data['Class'] == 1]\n",
    "helice = data.loc[data['Class'] == 2]\n",
    "\n",
    "print(len(coil) / len(data))\n",
    "print(len(fita) / len(data))\n",
    "print(len(helice) / len(data))\n",
    "sns.countplot(x='Class', data=data, palette='RdBu')\n",
    "\n",
    "X = data.drop(['Class'], axis=1)\n",
    "y = data['Class']"
   ]
  },
  {
   "cell_type": "code",
   "execution_count": 63,
   "metadata": {
    "colab": {
     "base_uri": "https://localhost:8080/",
     "height": 50
    },
    "colab_type": "code",
    "id": "a_NcpxJcZhil",
    "outputId": "102995dc-400a-48c0-b67a-328201b927d0"
   },
   "outputs": [
    {
     "name": "stdout",
     "output_type": "stream",
     "text": [
      "(11973,)\n",
      "(11973, 9)\n"
     ]
    },
    {
     "name": "stderr",
     "output_type": "stream",
     "text": [
      "/home/ismael/anaconda3/lib/python3.6/site-packages/sklearn/utils/validation.py:595: DataConversionWarning: Data with input dtype int64 was converted to float64 by StandardScaler.\n",
      "  warnings.warn(msg, DataConversionWarning)\n",
      "/home/ismael/anaconda3/lib/python3.6/site-packages/sklearn/utils/validation.py:595: DataConversionWarning: Data with input dtype int64 was converted to float64 by StandardScaler.\n",
      "  warnings.warn(msg, DataConversionWarning)\n"
     ]
    }
   ],
   "source": [
    "X = np.asarray(X)\n",
    "y = np.asarray(y)\n",
    "\n",
    "scaler = preprocessing.StandardScaler().fit(X)\n",
    "X = scaler.transform(X)\n",
    "\n",
    "y, X = sklearn.utils.shuffle([X, y])\n",
    "print(y.shape)\n",
    "print(X.shape)\n",
    "X = X.reshape(-1, janela, 1)\n",
    "\n",
    "X_train, X_test, y_train, y_test = train_test_split(X, y, test_size=.2)\n",
    "\n",
    "y_train = keras.utils.to_categorical(y_train, 3)\n",
    "y_test = keras.utils.to_categorical(y_test, 3)"
   ]
  },
  {
   "cell_type": "code",
   "execution_count": 64,
   "metadata": {
    "colab": {
     "base_uri": "https://localhost:8080/",
     "height": 1000
    },
    "colab_type": "code",
    "id": "LDIkYPchZhjk",
    "outputId": "d58e409e-3ffc-4c85-f5b0-6df229baeff1",
    "scrolled": true
   },
   "outputs": [
    {
     "name": "stdout",
     "output_type": "stream",
     "text": [
      "Data shape (9, 1)\n",
      "_________________________________________________________________\n",
      "Layer (type)                 Output Shape              Param #   \n",
      "=================================================================\n",
      "conv1d_3 (Conv1D)            (None, 7, 32)             128       \n",
      "_________________________________________________________________\n",
      "conv1d_4 (Conv1D)            (None, 5, 64)             6208      \n",
      "_________________________________________________________________\n",
      "batch_normalization_3 (Batch (None, 5, 64)             256       \n",
      "_________________________________________________________________\n",
      "flatten_2 (Flatten)          (None, 320)               0         \n",
      "_________________________________________________________________\n",
      "first_fc_layer (Dense)       (None, 64)                20544     \n",
      "_________________________________________________________________\n",
      "second_fc_layer (Dense)      (None, 128)               8320      \n",
      "_________________________________________________________________\n",
      "third_fc_layer (Dense)       (None, 128)               16512     \n",
      "_________________________________________________________________\n",
      "fourch_fc_layer (Dense)      (None, 64)                8256      \n",
      "_________________________________________________________________\n",
      "dense_1 (Dense)              (None, 3)                 195       \n",
      "=================================================================\n",
      "Total params: 60,419\n",
      "Trainable params: 60,291\n",
      "Non-trainable params: 128\n",
      "_________________________________________________________________\n",
      "Train on 9578 samples, validate on 2395 samples\n",
      "Epoch 1/20\n",
      "9578/9578 [==============================] - 1s 149us/step - loss: 5.6581 - acc: 0.3337 - val_loss: 5.5864 - val_acc: 0.3916\n",
      "Epoch 2/20\n",
      "9578/9578 [==============================] - 1s 56us/step - loss: 5.5429 - acc: 0.4084 - val_loss: 5.5113 - val_acc: 0.4008\n",
      "Epoch 3/20\n",
      "9578/9578 [==============================] - 0s 51us/step - loss: 5.4656 - acc: 0.4171 - val_loss: 5.4419 - val_acc: 0.4088\n",
      "Epoch 4/20\n",
      "9578/9578 [==============================] - 0s 49us/step - loss: 5.3934 - acc: 0.4248 - val_loss: 5.3747 - val_acc: 0.4100\n",
      "Epoch 5/20\n",
      "9578/9578 [==============================] - 0s 50us/step - loss: 5.3242 - acc: 0.4323 - val_loss: 5.3089 - val_acc: 0.4096\n",
      "Epoch 6/20\n",
      "9578/9578 [==============================] - 0s 52us/step - loss: 5.2567 - acc: 0.4361 - val_loss: 5.2445 - val_acc: 0.4129\n",
      "Epoch 7/20\n",
      "9578/9578 [==============================] - 1s 54us/step - loss: 5.1908 - acc: 0.4390 - val_loss: 5.1810 - val_acc: 0.4109\n",
      "Epoch 8/20\n",
      "9578/9578 [==============================] - 0s 50us/step - loss: 5.1267 - acc: 0.4400 - val_loss: 5.1186 - val_acc: 0.4134\n",
      "Epoch 9/20\n",
      "9578/9578 [==============================] - 0s 50us/step - loss: 5.0634 - acc: 0.4436 - val_loss: 5.0572 - val_acc: 0.4121\n",
      "Epoch 10/20\n",
      "9578/9578 [==============================] - 1s 60us/step - loss: 5.0014 - acc: 0.4457 - val_loss: 4.9969 - val_acc: 0.4138\n",
      "Epoch 11/20\n",
      "9578/9578 [==============================] - 1s 59us/step - loss: 4.9406 - acc: 0.4488 - val_loss: 4.9374 - val_acc: 0.4121\n",
      "Epoch 12/20\n",
      "9578/9578 [==============================] - 1s 66us/step - loss: 4.8809 - acc: 0.4497 - val_loss: 4.8789 - val_acc: 0.4167\n",
      "Epoch 13/20\n",
      "9578/9578 [==============================] - 1s 59us/step - loss: 4.8223 - acc: 0.4519 - val_loss: 4.8212 - val_acc: 0.4163\n",
      "Epoch 14/20\n",
      "9578/9578 [==============================] - 1s 61us/step - loss: 4.7648 - acc: 0.4552 - val_loss: 4.7646 - val_acc: 0.4150\n",
      "Epoch 15/20\n",
      "9578/9578 [==============================] - 1s 63us/step - loss: 4.7082 - acc: 0.4555 - val_loss: 4.7090 - val_acc: 0.4159\n",
      "Epoch 16/20\n",
      "9578/9578 [==============================] - 1s 62us/step - loss: 4.6528 - acc: 0.4574 - val_loss: 4.6540 - val_acc: 0.4142\n",
      "Epoch 17/20\n",
      "9578/9578 [==============================] - 1s 61us/step - loss: 4.5978 - acc: 0.4569 - val_loss: 4.6000 - val_acc: 0.4154\n",
      "Epoch 18/20\n",
      "9578/9578 [==============================] - 1s 62us/step - loss: 4.5441 - acc: 0.4579 - val_loss: 4.5468 - val_acc: 0.4159\n",
      "Epoch 19/20\n",
      "9578/9578 [==============================] - 1s 62us/step - loss: 4.4912 - acc: 0.4583 - val_loss: 4.4945 - val_acc: 0.4163\n",
      "Epoch 20/20\n",
      "9578/9578 [==============================] - 1s 63us/step - loss: 4.4390 - acc: 0.4601 - val_loss: 4.4430 - val_acc: 0.4163\n",
      "              precision    recall  f1-score   support\n",
      "\n",
      "           0       0.42      0.79      0.55       990\n",
      "           1       0.48      0.10      0.17       581\n",
      "           2       0.39      0.18      0.25       824\n",
      "\n",
      "   micro avg       0.42      0.42      0.42      2395\n",
      "   macro avg       0.43      0.36      0.32      2395\n",
      "weighted avg       0.42      0.42      0.35      2395\n",
      "\n"
     ]
    },
    {
     "data": {
      "image/png": "[encoded data removed]",
      "text/plain": [
       "<Figure size 432x288 with 1 Axes>"
      ]
     },
     "metadata": {},
     "output_type": "display_data"
    }
   ],
   "source": [
    "epochs = 20\n",
    "batch_size = 512\n",
    "input_shape = X.shape[1:]\n",
    "print(\"Data shape\", input_shape)\n",
    "model = conv1DModel(input_shape, 3)\n",
    "# model = conv1DResnet(input_shape,3)\n",
    "\n",
    "model.compile(loss='categorical_crossentropy',\n",
    "              optimizer=keras.optimizers.SGD(lr=.01, momentum=.5),\n",
    "              metrics=['accuracy'])\n",
    "\n",
    "hist = model.fit(X_train, y_train, batch_size=batch_size, epochs=epochs, validation_data=(X_test, y_test))\n",
    "\n",
    "evaluate_model(model, hist, X_test, y_test, batch_size, epochs)"
   ]
  },
  {
   "cell_type": "code",
   "execution_count": 65,
   "metadata": {
    "colab": {
     "base_uri": "https://localhost:8080/",
     "height": 441
    },
    "colab_type": "code",
    "id": "AG4kJ4T11Cpz",
    "outputId": "4ce14d90-fe2b-4017-ae16-b8d93ecae224"
   },
   "outputs": [
    {
     "ename": "ValueError",
     "evalue": "Shape of passed values is (2395, 1), indices imply (1, 1)",
     "output_type": "error",
     "traceback": [
      "\u001b[0;31m---------------------------------------------------------------------------\u001b[0m",
      "\u001b[0;31mValueError\u001b[0m                                Traceback (most recent call last)",
      "\u001b[0;32m~/anaconda3/lib/python3.6/site-packages/pandas/core/internals/managers.py\u001b[0m in \u001b[0;36mcreate_block_manager_from_blocks\u001b[0;34m(blocks, axes)\u001b[0m\n\u001b[1;32m   1652\u001b[0m \u001b[0;34m\u001b[0m\u001b[0m\n\u001b[0;32m-> 1653\u001b[0;31m         \u001b[0mmgr\u001b[0m \u001b[0;34m=\u001b[0m \u001b[0mBlockManager\u001b[0m\u001b[0;34m(\u001b[0m\u001b[0mblocks\u001b[0m\u001b[0;34m,\u001b[0m \u001b[0maxes\u001b[0m\u001b[0;34m)\u001b[0m\u001b[0;34m\u001b[0m\u001b[0;34m\u001b[0m\u001b[0m\n\u001b[0m\u001b[1;32m   1654\u001b[0m         \u001b[0mmgr\u001b[0m\u001b[0;34m.\u001b[0m\u001b[0m_consolidate_inplace\u001b[0m\u001b[0;34m(\u001b[0m\u001b[0;34m)\u001b[0m\u001b[0;34m\u001b[0m\u001b[0;34m\u001b[0m\u001b[0m\n",
      "\u001b[0;32m~/anaconda3/lib/python3.6/site-packages/pandas/core/internals/managers.py\u001b[0m in \u001b[0;36m__init__\u001b[0;34m(self, blocks, axes, do_integrity_check)\u001b[0m\n\u001b[1;32m    113\u001b[0m         \u001b[0;32mif\u001b[0m \u001b[0mdo_integrity_check\u001b[0m\u001b[0;34m:\u001b[0m\u001b[0;34m\u001b[0m\u001b[0;34m\u001b[0m\u001b[0m\n\u001b[0;32m--> 114\u001b[0;31m             \u001b[0mself\u001b[0m\u001b[0;34m.\u001b[0m\u001b[0m_verify_integrity\u001b[0m\u001b[0;34m(\u001b[0m\u001b[0;34m)\u001b[0m\u001b[0;34m\u001b[0m\u001b[0;34m\u001b[0m\u001b[0m\n\u001b[0m\u001b[1;32m    115\u001b[0m \u001b[0;34m\u001b[0m\u001b[0m\n",
      "\u001b[0;32m~/anaconda3/lib/python3.6/site-packages/pandas/core/internals/managers.py\u001b[0m in \u001b[0;36m_verify_integrity\u001b[0;34m(self)\u001b[0m\n\u001b[1;32m    310\u001b[0m             \u001b[0;32mif\u001b[0m \u001b[0mblock\u001b[0m\u001b[0;34m.\u001b[0m\u001b[0m_verify_integrity\u001b[0m \u001b[0;32mand\u001b[0m \u001b[0mblock\u001b[0m\u001b[0;34m.\u001b[0m\u001b[0mshape\u001b[0m\u001b[0;34m[\u001b[0m\u001b[0;36m1\u001b[0m\u001b[0;34m:\u001b[0m\u001b[0;34m]\u001b[0m \u001b[0;34m!=\u001b[0m \u001b[0mmgr_shape\u001b[0m\u001b[0;34m[\u001b[0m\u001b[0;36m1\u001b[0m\u001b[0;34m:\u001b[0m\u001b[0;34m]\u001b[0m\u001b[0;34m:\u001b[0m\u001b[0;34m\u001b[0m\u001b[0;34m\u001b[0m\u001b[0m\n\u001b[0;32m--> 311\u001b[0;31m                 \u001b[0mconstruction_error\u001b[0m\u001b[0;34m(\u001b[0m\u001b[0mtot_items\u001b[0m\u001b[0;34m,\u001b[0m \u001b[0mblock\u001b[0m\u001b[0;34m.\u001b[0m\u001b[0mshape\u001b[0m\u001b[0;34m[\u001b[0m\u001b[0;36m1\u001b[0m\u001b[0;34m:\u001b[0m\u001b[0;34m]\u001b[0m\u001b[0;34m,\u001b[0m \u001b[0mself\u001b[0m\u001b[0;34m.\u001b[0m\u001b[0maxes\u001b[0m\u001b[0;34m)\u001b[0m\u001b[0;34m\u001b[0m\u001b[0;34m\u001b[0m\u001b[0m\n\u001b[0m\u001b[1;32m    312\u001b[0m         \u001b[0;32mif\u001b[0m \u001b[0mlen\u001b[0m\u001b[0;34m(\u001b[0m\u001b[0mself\u001b[0m\u001b[0;34m.\u001b[0m\u001b[0mitems\u001b[0m\u001b[0;34m)\u001b[0m \u001b[0;34m!=\u001b[0m \u001b[0mtot_items\u001b[0m\u001b[0;34m:\u001b[0m\u001b[0;34m\u001b[0m\u001b[0;34m\u001b[0m\u001b[0m\n",
      "\u001b[0;32m~/anaconda3/lib/python3.6/site-packages/pandas/core/internals/managers.py\u001b[0m in \u001b[0;36mconstruction_error\u001b[0;34m(tot_items, block_shape, axes, e)\u001b[0m\n\u001b[1;32m   1690\u001b[0m     raise ValueError(\"Shape of passed values is {0}, indices imply {1}\".format(\n\u001b[0;32m-> 1691\u001b[0;31m         passed, implied))\n\u001b[0m\u001b[1;32m   1692\u001b[0m \u001b[0;34m\u001b[0m\u001b[0m\n",
      "\u001b[0;31mValueError\u001b[0m: Shape of passed values is (2395, 1), indices imply (1, 1)",
      "\nDuring handling of the above exception, another exception occurred:\n",
      "\u001b[0;31mValueError\u001b[0m                                Traceback (most recent call last)",
      "\u001b[0;32m<ipython-input-65-565738cc9d53>\u001b[0m in \u001b[0;36m<module>\u001b[0;34m\u001b[0m\n\u001b[1;32m      1\u001b[0m \u001b[0mpredictions\u001b[0m \u001b[0;34m=\u001b[0m \u001b[0mmodel\u001b[0m\u001b[0;34m.\u001b[0m\u001b[0mpredict\u001b[0m\u001b[0;34m(\u001b[0m\u001b[0mX_test\u001b[0m\u001b[0;34m)\u001b[0m\u001b[0;34m\u001b[0m\u001b[0;34m\u001b[0m\u001b[0m\n\u001b[1;32m      2\u001b[0m \u001b[0mp\u001b[0m \u001b[0;34m=\u001b[0m \u001b[0;34m[\u001b[0m \u001b[0mnp\u001b[0m\u001b[0;34m.\u001b[0m\u001b[0margmax\u001b[0m\u001b[0;34m(\u001b[0m\u001b[0mp\u001b[0m\u001b[0;34m)\u001b[0m  \u001b[0;32mfor\u001b[0m \u001b[0mp\u001b[0m \u001b[0;32min\u001b[0m \u001b[0mpredictions\u001b[0m\u001b[0;34m]\u001b[0m\u001b[0;34m\u001b[0m\u001b[0;34m\u001b[0m\u001b[0m\n\u001b[0;32m----> 3\u001b[0;31m \u001b[0mdf\u001b[0m \u001b[0;34m=\u001b[0m \u001b[0mpd\u001b[0m\u001b[0;34m.\u001b[0m\u001b[0mDataFrame\u001b[0m\u001b[0;34m(\u001b[0m\u001b[0mp\u001b[0m\u001b[0;34m,\u001b[0m\u001b[0mindex\u001b[0m\u001b[0;34m=\u001b[0m\u001b[0;34m[\u001b[0m\u001b[0;34m'class'\u001b[0m\u001b[0;34m]\u001b[0m\u001b[0;34m)\u001b[0m\u001b[0;34m\u001b[0m\u001b[0;34m\u001b[0m\u001b[0m\n\u001b[0m\u001b[1;32m      4\u001b[0m \u001b[0;34m\u001b[0m\u001b[0m\n",
      "\u001b[0;32m~/anaconda3/lib/python3.6/site-packages/pandas/core/frame.py\u001b[0m in \u001b[0;36m__init__\u001b[0;34m(self, data, index, columns, dtype, copy)\u001b[0m\n\u001b[1;32m    449\u001b[0m                 \u001b[0;32melse\u001b[0m\u001b[0;34m:\u001b[0m\u001b[0;34m\u001b[0m\u001b[0;34m\u001b[0m\u001b[0m\n\u001b[1;32m    450\u001b[0m                     mgr = init_ndarray(data, index, columns, dtype=dtype,\n\u001b[0;32m--> 451\u001b[0;31m                                        copy=copy)\n\u001b[0m\u001b[1;32m    452\u001b[0m             \u001b[0;32melse\u001b[0m\u001b[0;34m:\u001b[0m\u001b[0;34m\u001b[0m\u001b[0;34m\u001b[0m\u001b[0m\n\u001b[1;32m    453\u001b[0m                 \u001b[0mmgr\u001b[0m \u001b[0;34m=\u001b[0m \u001b[0minit_dict\u001b[0m\u001b[0;34m(\u001b[0m\u001b[0;34m{\u001b[0m\u001b[0;34m}\u001b[0m\u001b[0;34m,\u001b[0m \u001b[0mindex\u001b[0m\u001b[0;34m,\u001b[0m \u001b[0mcolumns\u001b[0m\u001b[0;34m,\u001b[0m \u001b[0mdtype\u001b[0m\u001b[0;34m=\u001b[0m\u001b[0mdtype\u001b[0m\u001b[0;34m)\u001b[0m\u001b[0;34m\u001b[0m\u001b[0;34m\u001b[0m\u001b[0m\n",
      "\u001b[0;32m~/anaconda3/lib/python3.6/site-packages/pandas/core/internals/construction.py\u001b[0m in \u001b[0;36minit_ndarray\u001b[0;34m(values, index, columns, dtype, copy)\u001b[0m\n\u001b[1;32m    165\u001b[0m         \u001b[0mvalues\u001b[0m \u001b[0;34m=\u001b[0m \u001b[0mmaybe_infer_to_datetimelike\u001b[0m\u001b[0;34m(\u001b[0m\u001b[0mvalues\u001b[0m\u001b[0;34m)\u001b[0m\u001b[0;34m\u001b[0m\u001b[0;34m\u001b[0m\u001b[0m\n\u001b[1;32m    166\u001b[0m \u001b[0;34m\u001b[0m\u001b[0m\n\u001b[0;32m--> 167\u001b[0;31m     \u001b[0;32mreturn\u001b[0m \u001b[0mcreate_block_manager_from_blocks\u001b[0m\u001b[0;34m(\u001b[0m\u001b[0;34m[\u001b[0m\u001b[0mvalues\u001b[0m\u001b[0;34m]\u001b[0m\u001b[0;34m,\u001b[0m \u001b[0;34m[\u001b[0m\u001b[0mcolumns\u001b[0m\u001b[0;34m,\u001b[0m \u001b[0mindex\u001b[0m\u001b[0;34m]\u001b[0m\u001b[0;34m)\u001b[0m\u001b[0;34m\u001b[0m\u001b[0;34m\u001b[0m\u001b[0m\n\u001b[0m\u001b[1;32m    168\u001b[0m \u001b[0;34m\u001b[0m\u001b[0m\n\u001b[1;32m    169\u001b[0m \u001b[0;34m\u001b[0m\u001b[0m\n",
      "\u001b[0;32m~/anaconda3/lib/python3.6/site-packages/pandas/core/internals/managers.py\u001b[0m in \u001b[0;36mcreate_block_manager_from_blocks\u001b[0;34m(blocks, axes)\u001b[0m\n\u001b[1;32m   1658\u001b[0m         \u001b[0mblocks\u001b[0m \u001b[0;34m=\u001b[0m \u001b[0;34m[\u001b[0m\u001b[0mgetattr\u001b[0m\u001b[0;34m(\u001b[0m\u001b[0mb\u001b[0m\u001b[0;34m,\u001b[0m \u001b[0;34m'values'\u001b[0m\u001b[0;34m,\u001b[0m \u001b[0mb\u001b[0m\u001b[0;34m)\u001b[0m \u001b[0;32mfor\u001b[0m \u001b[0mb\u001b[0m \u001b[0;32min\u001b[0m \u001b[0mblocks\u001b[0m\u001b[0;34m]\u001b[0m\u001b[0;34m\u001b[0m\u001b[0;34m\u001b[0m\u001b[0m\n\u001b[1;32m   1659\u001b[0m         \u001b[0mtot_items\u001b[0m \u001b[0;34m=\u001b[0m \u001b[0msum\u001b[0m\u001b[0;34m(\u001b[0m\u001b[0mb\u001b[0m\u001b[0;34m.\u001b[0m\u001b[0mshape\u001b[0m\u001b[0;34m[\u001b[0m\u001b[0;36m0\u001b[0m\u001b[0;34m]\u001b[0m \u001b[0;32mfor\u001b[0m \u001b[0mb\u001b[0m \u001b[0;32min\u001b[0m \u001b[0mblocks\u001b[0m\u001b[0;34m)\u001b[0m\u001b[0;34m\u001b[0m\u001b[0;34m\u001b[0m\u001b[0m\n\u001b[0;32m-> 1660\u001b[0;31m         \u001b[0mconstruction_error\u001b[0m\u001b[0;34m(\u001b[0m\u001b[0mtot_items\u001b[0m\u001b[0;34m,\u001b[0m \u001b[0mblocks\u001b[0m\u001b[0;34m[\u001b[0m\u001b[0;36m0\u001b[0m\u001b[0;34m]\u001b[0m\u001b[0;34m.\u001b[0m\u001b[0mshape\u001b[0m\u001b[0;34m[\u001b[0m\u001b[0;36m1\u001b[0m\u001b[0;34m:\u001b[0m\u001b[0;34m]\u001b[0m\u001b[0;34m,\u001b[0m \u001b[0maxes\u001b[0m\u001b[0;34m,\u001b[0m \u001b[0me\u001b[0m\u001b[0;34m)\u001b[0m\u001b[0;34m\u001b[0m\u001b[0;34m\u001b[0m\u001b[0m\n\u001b[0m\u001b[1;32m   1661\u001b[0m \u001b[0;34m\u001b[0m\u001b[0m\n\u001b[1;32m   1662\u001b[0m \u001b[0;34m\u001b[0m\u001b[0m\n",
      "\u001b[0;32m~/anaconda3/lib/python3.6/site-packages/pandas/core/internals/managers.py\u001b[0m in \u001b[0;36mconstruction_error\u001b[0;34m(tot_items, block_shape, axes, e)\u001b[0m\n\u001b[1;32m   1689\u001b[0m         \u001b[0;32mraise\u001b[0m \u001b[0mValueError\u001b[0m\u001b[0;34m(\u001b[0m\u001b[0;34m\"Empty data passed with indices specified.\"\u001b[0m\u001b[0;34m)\u001b[0m\u001b[0;34m\u001b[0m\u001b[0;34m\u001b[0m\u001b[0m\n\u001b[1;32m   1690\u001b[0m     raise ValueError(\"Shape of passed values is {0}, indices imply {1}\".format(\n\u001b[0;32m-> 1691\u001b[0;31m         passed, implied))\n\u001b[0m\u001b[1;32m   1692\u001b[0m \u001b[0;34m\u001b[0m\u001b[0m\n\u001b[1;32m   1693\u001b[0m \u001b[0;34m\u001b[0m\u001b[0m\n",
      "\u001b[0;31mValueError\u001b[0m: Shape of passed values is (2395, 1), indices imply (1, 1)"
     ]
    }
   ],
   "source": [
    "predictions = model.predict(X_test)\n",
    "p = [ np.argmax(p)  for p in predictions]\n",
    "df = pd.DataFrame(p,index=['class'])\n",
    "\n"
   ]
  },
  {
   "cell_type": "code",
   "execution_count": null,
   "metadata": {
    "colab": {},
    "colab_type": "code",
    "id": "24QtamTpZhj3"
   },
   "outputs": [],
   "source": [
    "from keras import backend as k\n",
    "k.clear_session()"
   ]
  },
  {
   "cell_type": "code",
   "execution_count": null,
   "metadata": {
    "colab": {},
    "colab_type": "code",
    "id": "42jqxQK7ZhkH"
   },
   "outputs": [],
   "source": [
    "from sklearn.ensemble import RandomForestClassifier\n",
    "\n",
    "X = data.drop(['Class'], axis=1)\n",
    "y = data['Class']\n",
    "\n",
    "X_train, X_test, y_train, y_test = train_test_split(X, y, test_size=.2)\n",
    "\n",
    "clf = RandomForestClassifier(n_estimators=100)\n",
    "clf.fit(X_train, y_train)\n",
    "\n",
    "print(confusion_matrix(y_test, clf.predict(X_test)))\n",
    "print(classification_report(y_test, clf.predict(X_test)))\n"
   ]
  }
 ],
 "metadata": {
  "accelerator": "GPU",
  "colab": {
   "collapsed_sections": [],
   "name": "Projeto_Biologia.ipynb",
   "provenance": [],
   "toc_visible": true,
   "version": "0.3.2"
  },
  "kernelspec": {
   "display_name": "Python 3",
   "language": "python",
   "name": "python3"
  },
  "language_info": {
   "codemirror_mode": {
    "name": "ipython",
    "version": 3
   },
   "file_extension": ".py",
   "mimetype": "text/x-python",
   "name": "python",
   "nbconvert_exporter": "python",
   "pygments_lexer": "ipython3",
   "version": "3.6.8"
  }
 },
 "nbformat": 4,
 "nbformat_minor": 1
}
